{
 "cells": [
  {
   "cell_type": "code",
   "execution_count": 0,
   "metadata": {
    "colab": {
     "base_uri": "https://localhost:8080/",
     "height": 52
    },
    "colab_type": "code",
    "executionInfo": {
     "elapsed": 6679,
     "status": "ok",
     "timestamp": 1579704424619,
     "user": {
      "displayName": "Srajan Gupta",
      "photoUrl": "https://lh3.googleusercontent.com/a-/AAuE7mBYbKqx6seqbDvLoUc2osk40cHBl9lGCpPmb4pA=s64",
      "userId": "03848760359771388424"
     },
     "user_tz": -330
    },
    "id": "kEqZTdKUQVEo",
    "outputId": "e44c25f4-a147-4a12-cb7f-ec425b53d88e"
   },
   "outputs": [
    {
     "name": "stdout",
     "output_type": "stream",
     "text": [
      "Updating fastai...\n",
      "Done.\n"
     ]
    }
   ],
   "source": [
    "!curl -s https://course.fast.ai/setup/colab | bash"
   ]
  },
  {
   "cell_type": "code",
   "execution_count": 0,
   "metadata": {
    "colab": {},
    "colab_type": "code",
    "id": "3G9JBnC9RyS5"
   },
   "outputs": [],
   "source": [
    "from google.colab import drive\n",
    "drive.mount('/content/gdrive', force_remount=True)\n",
    "root_dir = \"/content/gdrive/My Drive/\"\n",
    "base_dir = root_dir + 'fastai-v3/'"
   ]
  },
  {
   "cell_type": "markdown",
   "metadata": {
    "colab_type": "text",
    "id": "PT01U8qqXAv6"
   },
   "source": [
    "#Importing Libraries"
   ]
  },
  {
   "cell_type": "code",
   "execution_count": 0,
   "metadata": {
    "ExecuteTime": {
     "end_time": "2019-01-24T21:16:18.042812Z",
     "start_time": "2019-01-24T21:16:15.342223Z"
    },
    "colab": {},
    "colab_type": "code",
    "hidden": true,
    "id": "xcDnk6DkCAQ4"
   },
   "outputs": [],
   "source": [
    "import pandas as pd\n",
    "import numpy as np\n",
    "import imutils\n",
    "import glob\n",
    "import cv2\n",
    "import shutil\n",
    "from tqdm import tqdm_notebook,tqdm\n",
    "from fastai.vision import *\n",
    "import matplotlib.pyplot as plt\n",
    "pd.set_option('display.max_columns', 500)"
   ]
  },
  {
   "cell_type": "code",
   "execution_count": 0,
   "metadata": {
    "colab": {
     "base_uri": "https://localhost:8080/",
     "height": 243
    },
    "colab_type": "code",
    "executionInfo": {
     "elapsed": 7938,
     "status": "ok",
     "timestamp": 1579704448217,
     "user": {
      "displayName": "Srajan Gupta",
      "photoUrl": "https://lh3.googleusercontent.com/a-/AAuE7mBYbKqx6seqbDvLoUc2osk40cHBl9lGCpPmb4pA=s64",
      "userId": "03848760359771388424"
     },
     "user_tz": -330
    },
    "id": "icZAlQHGfQTn",
    "outputId": "2d7b168e-b5a3-4e58-ba6a-c27b7a7be7f0"
   },
   "outputs": [
    {
     "name": "stdout",
     "output_type": "stream",
     "text": [
      "Collecting git+git://github.com/PnS2019/pnslib.git\n",
      "  Cloning git://github.com/PnS2019/pnslib.git to /tmp/pip-req-build-duac9tyz\n",
      "  Running command git clone -q git://github.com/PnS2019/pnslib.git /tmp/pip-req-build-duac9tyz\n",
      "Requirement already satisfied: numpy in /usr/local/lib/python3.6/dist-packages (from pnslib==0.1.0a1) (1.17.5)\n",
      "Requirement already satisfied: scipy in /usr/local/lib/python3.6/dist-packages (from pnslib==0.1.0a1) (1.4.1)\n",
      "Requirement already satisfied: future in /usr/local/lib/python3.6/dist-packages (from pnslib==0.1.0a1) (0.16.0)\n",
      "Building wheels for collected packages: pnslib\n",
      "  Building wheel for pnslib (setup.py) ... \u001b[?25l\u001b[?25hdone\n",
      "  Created wheel for pnslib: filename=pnslib-0.1.0a1-cp36-none-any.whl size=1489619 sha256=af7d6857e774ed4ee803d337f1dd6ba674fe731809f26cd0d45ca91d88a0b728\n",
      "  Stored in directory: /tmp/pip-ephem-wheel-cache-b_1l606m/wheels/a2/8e/a9/c62e72840009deaa723b3a113d5c3b90acac77098d16e90eca\n",
      "Successfully built pnslib\n",
      "Installing collected packages: pnslib\n",
      "Successfully installed pnslib-0.1.0a1\n"
     ]
    }
   ],
   "source": [
    "# install pnslib\n",
    "!pip install git+git://github.com/PnS2019/pnslib.git\n",
    "from pnslib import utils"
   ]
  },
  {
   "cell_type": "markdown",
   "metadata": {
    "colab_type": "text",
    "id": "nDmDRGcqXPG5"
   },
   "source": [
    "#Downloading data"
   ]
  },
  {
   "cell_type": "code",
   "execution_count": 0,
   "metadata": {
    "colab": {},
    "colab_type": "code",
    "id": "ahjS88CoPjQH"
   },
   "outputs": [],
   "source": [
    "!pip install -U -q kaggle\n",
    "!mkdir -p ~/.kaggle"
   ]
  },
  {
   "cell_type": "code",
   "execution_count": 0,
   "metadata": {
    "colab": {
     "base_uri": "https://localhost:8080/",
     "height": 100,
     "resources": {
      "http://localhost:8080/nbextensions/google.colab/files.js": {
       "data": "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",
       "headers": [
        [
         "content-type",
         "application/javascript"
        ]
       ],
       "ok": true,
       "status": 200,
       "status_text": "OK"
      }
     }
    },
    "colab_type": "code",
    "executionInfo": {
     "elapsed": 28775,
     "status": "ok",
     "timestamp": 1579704469347,
     "user": {
      "displayName": "Srajan Gupta",
      "photoUrl": "https://lh3.googleusercontent.com/a-/AAuE7mBYbKqx6seqbDvLoUc2osk40cHBl9lGCpPmb4pA=s64",
      "userId": "03848760359771388424"
     },
     "user_tz": -330
    },
    "id": "4kBdafg8Pmwa",
    "outputId": "79fce0bd-c218-4af1-94aa-ef5c8a53aea1"
   },
   "outputs": [
    {
     "data": {
      "text/html": [
       "\n",
       "     <input type=\"file\" id=\"files-b254ea77-d565-4859-bac7-72dd028852ca\" name=\"files[]\" multiple disabled />\n",
       "     <output id=\"result-b254ea77-d565-4859-bac7-72dd028852ca\">\n",
       "      Upload widget is only available when the cell has been executed in the\n",
       "      current browser session. Please rerun this cell to enable.\n",
       "      </output>\n",
       "      <script src=\"/nbextensions/google.colab/files.js\"></script> "
      ],
      "text/plain": [
       "<IPython.core.display.HTML object>"
      ]
     },
     "metadata": {
      "tags": []
     },
     "output_type": "display_data"
    },
    {
     "name": "stdout",
     "output_type": "stream",
     "text": [
      "Saving kaggle.json to kaggle.json\n"
     ]
    },
    {
     "data": {
      "text/plain": [
       "{'kaggle.json': b'{\"username\":\"mantispraying\",\"key\":\"2d6deddec71f566064539bce80a435b5\"}'}"
      ]
     },
     "execution_count": 6,
     "metadata": {
      "tags": []
     },
     "output_type": "execute_result"
    }
   ],
   "source": [
    "from google.colab import files\n",
    "files.upload()"
   ]
  },
  {
   "cell_type": "code",
   "execution_count": 0,
   "metadata": {
    "colab": {},
    "colab_type": "code",
    "id": "cL14o0h_PwXQ"
   },
   "outputs": [],
   "source": [
    "!cp kaggle.json ~/.kaggle/"
   ]
  },
  {
   "cell_type": "code",
   "execution_count": 0,
   "metadata": {
    "colab": {
     "base_uri": "https://localhost:8080/",
     "height": 86
    },
    "colab_type": "code",
    "executionInfo": {
     "elapsed": 18930,
     "status": "ok",
     "timestamp": 1579704491394,
     "user": {
      "displayName": "Srajan Gupta",
      "photoUrl": "https://lh3.googleusercontent.com/a-/AAuE7mBYbKqx6seqbDvLoUc2osk40cHBl9lGCpPmb4pA=s64",
      "userId": "03848760359771388424"
     },
     "user_tz": -330
    },
    "id": "MJjxzEPxP0On",
    "outputId": "95e1057f-50e0-4ee6-f430-2ef84232ee73"
   },
   "outputs": [
    {
     "name": "stdout",
     "output_type": "stream",
     "text": [
      "Warning: Your Kaggle API key is readable by other users on this system! To fix this, you can run 'chmod 600 /root/.kaggle/kaggle.json'\n",
      "Downloading celeba-dataset.zip to /content\n",
      "100% 1.32G/1.33G [00:14<00:00, 112MB/s] \n",
      "100% 1.33G/1.33G [00:14<00:00, 101MB/s]\n"
     ]
    }
   ],
   "source": [
    "!kaggle datasets download -d jessicali9530/celeba-dataset"
   ]
  },
  {
   "cell_type": "markdown",
   "metadata": {
    "colab_type": "text",
    "id": "IpCrY5coXZp6"
   },
   "source": [
    "#Data Preprocessing"
   ]
  },
  {
   "cell_type": "code",
   "execution_count": 0,
   "metadata": {
    "cellView": "code",
    "colab": {},
    "colab_type": "code",
    "id": "8EBVPf7sDycz"
   },
   "outputs": [],
   "source": [
    "!unzip '/content/celeba-dataset.zip' -d '/content/celeba-dataset/'"
   ]
  },
  {
   "cell_type": "code",
   "execution_count": 0,
   "metadata": {
    "ExecuteTime": {
     "end_time": "2019-01-24T21:16:18.291354Z",
     "start_time": "2019-01-24T21:16:18.072519Z"
    },
    "colab": {},
    "colab_type": "code",
    "id": "XKQwc3-VCARM"
   },
   "outputs": [],
   "source": [
    "## Loading Haar Cascade\n",
    "## Taken from https://github.com/opencv/opencv/tree/master/data/haarcascades\n",
    "face_cascade = cv2.CascadeClassifier(utils.get_haarcascade_path('haarcascade_frontalface_default.xml'))"
   ]
  },
  {
   "cell_type": "code",
   "execution_count": 0,
   "metadata": {
    "ExecuteTime": {
     "end_time": "2019-01-24T21:16:19.110303Z",
     "start_time": "2019-01-24T21:16:19.067567Z"
    },
    "colab": {},
    "colab_type": "code",
    "id": "RCUKExn3CARR"
   },
   "outputs": [],
   "source": [
    "def face_extractor(origin, destination, fc):\n",
    "    ## Importing image using open cv\n",
    "    img = cv2.imread(origin,1)\n",
    "\n",
    "    ## Resizing to constant width\n",
    "    img = imutils.resize(img, width=200)\n",
    "    \n",
    "    ## Finding actual size of image\n",
    "    H,W,_ = img.shape\n",
    "    \n",
    "    ## Converting BGR to RGB\n",
    "    gray = cv2.cvtColor(img, cv2.COLOR_BGR2GRAY)\n",
    "    \n",
    "    ## Detecting faces on the image\n",
    "    face_coord = fc.detectMultiScale(gray,1.2,10,minSize=(50,50))\n",
    "    \n",
    "    ## If only one face is found\n",
    "    if len(face_coord) == 1:\n",
    "        X, Y, w, h = face_coord[0]\n",
    "    \n",
    "    ## If no face found --> SKIP\n",
    "    elif len(face_coord)==0:\n",
    "        return None\n",
    "    \n",
    "    ## If multiple faces are found take the one with largest area\n",
    "    else:\n",
    "        max_val = 0\n",
    "        max_idx = 0\n",
    "        for idx in range(len(face_coord)):\n",
    "            _, _, w_i, h_i = face_coord[idx]\n",
    "            if w_i*h_i > max_val:\n",
    "                max_idx = idx\n",
    "                max_val = w_i*h_i\n",
    "            else:\n",
    "                pass\n",
    "            \n",
    "            X, Y, w, h = face_coord[max_idx]\n",
    "    \n",
    "    ## Crop and export the image\n",
    "    img_cp = img[\n",
    "            max(0,Y - int(0.35*h)): min(Y + int(1.35*h), H),\n",
    "            max(0,X - int(w*0.35)): min(X + int(1.35*w), W)\n",
    "        ].copy()\n",
    "    \n",
    "    cv2.imwrite(destination, img_cp)"
   ]
  },
  {
   "cell_type": "code",
   "execution_count": 0,
   "metadata": {
    "ExecuteTime": {
     "end_time": "2019-01-24T21:16:26.977196Z",
     "start_time": "2019-01-24T21:16:23.864329Z"
    },
    "colab": {
     "base_uri": "https://localhost:8080/",
     "height": 34
    },
    "colab_type": "code",
    "executionInfo": {
     "elapsed": 81804,
     "status": "ok",
     "timestamp": 1579704563705,
     "user": {
      "displayName": "Srajan Gupta",
      "photoUrl": "https://lh3.googleusercontent.com/a-/AAuE7mBYbKqx6seqbDvLoUc2osk40cHBl9lGCpPmb4pA=s64",
      "userId": "03848760359771388424"
     },
     "user_tz": -330
    },
    "id": "CVoRPWZBCARW",
    "outputId": "46c484dc-0126-4a33-a753-03a9369571de"
   },
   "outputs": [
    {
     "name": "stdout",
     "output_type": "stream",
     "text": [
      "202599\n"
     ]
    }
   ],
   "source": [
    "## Defining destination path\n",
    "path = '/content/celeba-dataset/faces/'\n",
    "## Finding all the images in the folder\n",
    "item_list = glob.glob('/content/celeba-dataset/img_align_celeba/img_align_celeba/*.jpg')\n",
    "print(len(item_list))"
   ]
  },
  {
   "cell_type": "code",
   "execution_count": 0,
   "metadata": {
    "colab": {},
    "colab_type": "code",
    "id": "gj_991C20RxQ"
   },
   "outputs": [],
   "source": [
    "pathq = Path(path)\n",
    "pathq.mkdir(parents=True, exist_ok=True)"
   ]
  },
  {
   "cell_type": "code",
   "execution_count": 0,
   "metadata": {
    "ExecuteTime": {
     "end_time": "2019-01-24T05:10:20.445764Z",
     "start_time": "2019-01-24T05:09:00.264576Z"
    },
    "colab": {},
    "colab_type": "code",
    "id": "RSn-X-8pCARZ"
   },
   "outputs": [],
   "source": [
    "## Will run for about an hour and a half \n",
    "for org in tqdm_notebook(item_list):\n",
    "  face_extractor(origin = org, destination = path+org.split('/')[-1], fc=face_cascade)"
   ]
  },
  {
   "cell_type": "code",
   "execution_count": 0,
   "metadata": {
    "colab": {},
    "colab_type": "code",
    "id": "3cBCmS2k3VMY"
   },
   "outputs": [],
   "source": [
    "item_list = glob.glob(path+'*.jpg')\n",
    "print(len(item_list))"
   ]
  },
  {
   "cell_type": "code",
   "execution_count": 0,
   "metadata": {
    "colab": {
     "base_uri": "https://localhost:8080/",
     "height": 66,
     "referenced_widgets": [
      "37ab7b460ae34624979c92ec1a4eae3e",
      "54dbf41c55724fb3b96f9a2591b641ef",
      "7dfd7a8a46e34362bf88ef3a9e5dd995",
      "8bcd8723e0284931b7fa1d7b26d29876",
      "f8080dbb5b1f4ee1be69f810c1f627be",
      "3ba58709158745bc8b5b66e0b7ee8578",
      "28a828076a9c4b67974c98361211b715",
      "55ffe93524034853b1c076fcf445781f"
     ]
    },
    "colab_type": "code",
    "executionInfo": {
     "elapsed": 8378,
     "status": "ok",
     "timestamp": 1578989785008,
     "user": {
      "displayName": "Srajan Gupta",
      "photoUrl": "https://lh3.googleusercontent.com/a-/AAuE7mBYbKqx6seqbDvLoUc2osk40cHBl9lGCpPmb4pA=s64",
      "userId": "03848760359771388424"
     },
     "user_tz": -330
    },
    "id": "rCU3AjlrCARd",
    "outputId": "4e2cb2cf-c4a9-463a-f62b-c43cae1c89d7"
   },
   "outputs": [
    {
     "data": {
      "application/vnd.jupyter.widget-view+json": {
       "model_id": "37ab7b460ae34624979c92ec1a4eae3e",
       "version_major": 2,
       "version_minor": 0
      },
      "text/plain": [
       "HBox(children=(IntProgress(value=0, max=202599), HTML(value='')))"
      ]
     },
     "metadata": {
      "tags": []
     },
     "output_type": "display_data"
    },
    {
     "name": "stdout",
     "output_type": "stream",
     "text": [
      "\n"
     ]
    }
   ],
   "source": [
    "## Findign all the images and separating in training and validation\n",
    "item_list = glob.glob(path+'*.jpg')\n",
    "Path(path+'training/').mkdir(parents=True, exist_ok=True)\n",
    "Path(path+'validation/').mkdir(parents=True, exist_ok=True)\n",
    "for idx in tqdm_notebook(range(1,202600)):\n",
    "    if idx <= 182637:\n",
    "        destination = path+'training/'\n",
    "    else:\n",
    "        destination = path+'validation/'\n",
    "    try:\n",
    "        shutil.move(\n",
    "            path+str(idx).zfill(6)+'.jpg', \n",
    "            destination+str(idx).zfill(6)+'.jpg'\n",
    "        )\n",
    "    except:\n",
    "        pass"
   ]
  },
  {
   "cell_type": "code",
   "execution_count": 0,
   "metadata": {
    "colab": {
     "base_uri": "https://localhost:8080/",
     "height": 52
    },
    "colab_type": "code",
    "executionInfo": {
     "elapsed": 1461,
     "status": "ok",
     "timestamp": 1578989839240,
     "user": {
      "displayName": "Srajan Gupta",
      "photoUrl": "https://lh3.googleusercontent.com/a-/AAuE7mBYbKqx6seqbDvLoUc2osk40cHBl9lGCpPmb4pA=s64",
      "userId": "03848760359771388424"
     },
     "user_tz": -330
    },
    "id": "hDNVuZLWxlKn",
    "outputId": "3fda4198-958c-4b86-d874-594cf6cfa516"
   },
   "outputs": [
    {
     "name": "stdout",
     "output_type": "stream",
     "text": [
      "0\n",
      "0\n"
     ]
    }
   ],
   "source": [
    "item_list1 = glob.glob(path+'training/*.jpg')\n",
    "print(len(item_list1))\n",
    "item_list2 = glob.glob(path+'validation/*.jpg')\n",
    "print(len(item_list2))"
   ]
  },
  {
   "cell_type": "code",
   "execution_count": 0,
   "metadata": {
    "colab": {
     "base_uri": "https://localhost:8080/",
     "height": 260
    },
    "colab_type": "code",
    "executionInfo": {
     "elapsed": 153205,
     "status": "ok",
     "timestamp": 1577770935236,
     "user": {
      "displayName": "Srajan Gupta",
      "photoUrl": "https://lh3.googleusercontent.com/a-/AAuE7mBYbKqx6seqbDvLoUc2osk40cHBl9lGCpPmb4pA=s64",
      "userId": "03848760359771388424"
     },
     "user_tz": -330
    },
    "id": "95WraYwQCARk",
    "outputId": "53350314-0fae-4ce7-aa8a-6272eba7e4b0"
   },
   "outputs": [
    {
     "name": "stdout",
     "output_type": "stream",
     "text": [
      "          image_id                                              label\n",
      "0       000001.jpg  Arched_Eyebrows Attractive Brown_Hair Heavy_Ma...\n",
      "1       000002.jpg  Bags_Under_Eyes Big_Nose Brown_Hair High_Cheek...\n",
      "2       000003.jpg  Big_Lips Blurry Male Narrow_Eyes No_Beard Poin...\n",
      "3       000004.jpg  Attractive No_Beard Pointy_Nose Straight_Hair ...\n",
      "4       000005.jpg  Arched_Eyebrows Attractive Big_Lips Heavy_Make...\n",
      "...            ...                                                ...\n",
      "202594  202595.jpg  Attractive Big_Lips Blond_Hair No_Beard Wearin...\n",
      "202595  202596.jpg  Bangs Big_Lips Blond_Hair High_Cheekbones Male...\n",
      "202596  202597.jpg  Black_Hair Eyeglasses High_Cheekbones Male Mou...\n",
      "202597  202598.jpg  Arched_Eyebrows Attractive Big_Lips Black_Hair...\n",
      "202598  202599.jpg  Arched_Eyebrows Attractive Blond_Hair Heavy_Ma...\n",
      "\n",
      "[202599 rows x 2 columns]\n"
     ]
    }
   ],
   "source": [
    "## Combining all label attributes\n",
    "label_df = pd.read_csv('/content/celeba-dataset/list_attr_celeba.csv')\n",
    "column_list = pd.Series(list(label_df.columns)[1:])\n",
    "\n",
    "def label_generator(row):\n",
    "    return(' '.join(column_list[[True if i==1 else False for i in row[column_list]]]))\n",
    "\n",
    "label_df['label'] = label_df.apply(lambda x: label_generator(x), axis=1)\n",
    "label_df = label_df.loc[:,['image_id','label']]\n",
    "label_df.to_csv('/content/celeba-dataset/labels.csv')\n",
    "print(label_df)"
   ]
  },
  {
   "cell_type": "code",
   "execution_count": 0,
   "metadata": {
    "colab": {
     "base_uri": "https://localhost:8080/",
     "height": 521
    },
    "colab_type": "code",
    "executionInfo": {
     "elapsed": 3920,
     "status": "ok",
     "timestamp": 1577773032556,
     "user": {
      "displayName": "Srajan Gupta",
      "photoUrl": "https://lh3.googleusercontent.com/a-/AAuE7mBYbKqx6seqbDvLoUc2osk40cHBl9lGCpPmb4pA=s64",
      "userId": "03848760359771388424"
     },
     "user_tz": -330
    },
    "id": "BZI3a8btCARo",
    "outputId": "ec1e8e2a-6449-440c-a637-f91e75a4a330"
   },
   "outputs": [
    {
     "name": "stdout",
     "output_type": "stream",
     "text": [
      "175620\n",
      "                   image_name\n",
      "0       validation/185761.jpg\n",
      "1       validation/194361.jpg\n",
      "2       validation/193420.jpg\n",
      "3       validation/189369.jpg\n",
      "4       validation/193574.jpg\n",
      "...                       ...\n",
      "175615    training/115960.jpg\n",
      "175616    training/159529.jpg\n",
      "175617    training/150957.jpg\n",
      "175618    training/066993.jpg\n",
      "175619    training/056530.jpg\n",
      "\n",
      "[175620 rows x 1 columns]\n",
      "                   image_name    image_id\n",
      "0       validation/185761.jpg  185761.jpg\n",
      "1       validation/194361.jpg  194361.jpg\n",
      "2       validation/193420.jpg  193420.jpg\n",
      "3       validation/189369.jpg  189369.jpg\n",
      "4       validation/193574.jpg  193574.jpg\n",
      "...                       ...         ...\n",
      "175615    training/115960.jpg  115960.jpg\n",
      "175616    training/159529.jpg  159529.jpg\n",
      "175617    training/150957.jpg  150957.jpg\n",
      "175618    training/066993.jpg  066993.jpg\n",
      "175619    training/056530.jpg  056530.jpg\n",
      "\n",
      "[175620 rows x 2 columns]\n"
     ]
    }
   ],
   "source": [
    "## Attachhing label to correct file names\n",
    "item_list = glob.glob('/content/celeba-dataset/faces/*/*.jpg')\n",
    "print(len(item_list))\n",
    "item_df = pd.DataFrame({'image_name':pd.Series(item_list).apply(lambda x: x.split('/')[-2]+'/'+x.split('/')[-1])})\n",
    "print(item_df)\n",
    "item_df['image_id'] = item_df.image_name.apply(lambda x: x.split('/')[1])\n",
    "print(item_df)"
   ]
  },
  {
   "cell_type": "code",
   "execution_count": 0,
   "metadata": {
    "colab": {
     "base_uri": "https://localhost:8080/",
     "height": 712
    },
    "colab_type": "code",
    "executionInfo": {
     "elapsed": 4062,
     "status": "ok",
     "timestamp": 1577773042702,
     "user": {
      "displayName": "Srajan Gupta",
      "photoUrl": "https://lh3.googleusercontent.com/a-/AAuE7mBYbKqx6seqbDvLoUc2osk40cHBl9lGCpPmb4pA=s64",
      "userId": "03848760359771388424"
     },
     "user_tz": -330
    },
    "id": "x5NB9FJyCARq",
    "outputId": "0930ae39-a283-4146-b4b9-2da7b2d9b866"
   },
   "outputs": [
    {
     "name": "stdout",
     "output_type": "stream",
     "text": [
      "        Unnamed: 0    image_id  \\\n",
      "0                0  000001.jpg   \n",
      "1                1  000002.jpg   \n",
      "2                4  000005.jpg   \n",
      "3                5  000006.jpg   \n",
      "4                6  000007.jpg   \n",
      "...            ...         ...   \n",
      "175615      202594  202595.jpg   \n",
      "175616      202595  202596.jpg   \n",
      "175617      202596  202597.jpg   \n",
      "175618      202597  202598.jpg   \n",
      "175619      202598  202599.jpg   \n",
      "\n",
      "                                                    label  \\\n",
      "0       Arched_Eyebrows Attractive Brown_Hair Heavy_Ma...   \n",
      "1       Bags_Under_Eyes Big_Nose Brown_Hair High_Cheek...   \n",
      "2       Arched_Eyebrows Attractive Big_Lips Heavy_Make...   \n",
      "3       Arched_Eyebrows Attractive Big_Lips Brown_Hair...   \n",
      "4       5_o_Clock_Shadow Attractive Bags_Under_Eyes Bi...   \n",
      "...                                                   ...   \n",
      "175615  Attractive Big_Lips Blond_Hair No_Beard Wearin...   \n",
      "175616  Bangs Big_Lips Blond_Hair High_Cheekbones Male...   \n",
      "175617  Black_Hair Eyeglasses High_Cheekbones Male Mou...   \n",
      "175618  Arched_Eyebrows Attractive Big_Lips Black_Hair...   \n",
      "175619  Arched_Eyebrows Attractive Blond_Hair Heavy_Ma...   \n",
      "\n",
      "                   image_name  \n",
      "0         training/000001.jpg  \n",
      "1         training/000002.jpg  \n",
      "2         training/000005.jpg  \n",
      "3         training/000006.jpg  \n",
      "4         training/000007.jpg  \n",
      "...                       ...  \n",
      "175615  validation/202595.jpg  \n",
      "175616  validation/202596.jpg  \n",
      "175617  validation/202597.jpg  \n",
      "175618  validation/202598.jpg  \n",
      "175619  validation/202599.jpg  \n",
      "\n",
      "[175620 rows x 4 columns]\n"
     ]
    }
   ],
   "source": [
    "## Creating final label set\n",
    "label_df = pd.read_csv('/content/celeba-dataset/labels.csv')\n",
    "label_df = label_df.merge(item_df, on='image_id', how='inner')\n",
    "print(label_df)\n",
    "label_df.rename(columns={'label':'tags'}, inplace=True)\n",
    "label_df.loc[:,['image_name','tags']].to_csv('/content/celeba-dataset/faces/labels.csv', index=False)"
   ]
  },
  {
   "cell_type": "markdown",
   "metadata": {
    "colab_type": "text",
    "id": "5Z786ghUWkIR"
   },
   "source": [
    "#Creating Model"
   ]
  },
  {
   "cell_type": "markdown",
   "metadata": {
    "colab_type": "text",
    "heading_collapsed": true,
    "id": "RNeLmYth_rVR"
   },
   "source": [
    "## Creating a databunch"
   ]
  },
  {
   "cell_type": "code",
   "execution_count": 0,
   "metadata": {
    "ExecuteTime": {
     "end_time": "2019-01-28T05:41:50.662596Z",
     "start_time": "2019-01-28T05:41:50.642660Z"
    },
    "colab": {},
    "colab_type": "code",
    "hidden": true,
    "id": "uPyjNF6p_rVS"
   },
   "outputs": [],
   "source": [
    "path = Path('/content/celeba-dataset/faces/')"
   ]
  },
  {
   "cell_type": "code",
   "execution_count": 0,
   "metadata": {
    "ExecuteTime": {
     "end_time": "2019-01-28T05:41:51.365216Z",
     "start_time": "2019-01-28T05:41:51.343335Z"
    },
    "colab": {},
    "colab_type": "code",
    "hidden": true,
    "id": "KQ8A3M5f_rVW"
   },
   "outputs": [],
   "source": [
    "## Function to filter validation samples\n",
    "def validation_func(x):\n",
    "    return 'validation' in x"
   ]
  },
  {
   "cell_type": "code",
   "execution_count": 0,
   "metadata": {
    "ExecuteTime": {
     "end_time": "2019-01-28T05:41:52.033876Z",
     "start_time": "2019-01-28T05:41:52.011648Z"
    },
    "colab": {},
    "colab_type": "code",
    "hidden": true,
    "id": "_SIaF8Zu_rVc"
   },
   "outputs": [],
   "source": [
    "tfms = get_transforms(do_flip=False, flip_vert=False, max_rotate=30, max_lighting=0.3)"
   ]
  },
  {
   "cell_type": "code",
   "execution_count": 0,
   "metadata": {
    "colab": {},
    "colab_type": "code",
    "id": "curEMBNN83JE"
   },
   "outputs": [],
   "source": [
    "# shutil.copy2('/content/celeba-dataset/'+'labels.csv','/content/gdrive/My Drive/Colab Notebooks')"
   ]
  },
  {
   "cell_type": "code",
   "execution_count": 0,
   "metadata": {
    "colab": {},
    "colab_type": "code",
    "id": "gECVt_-VvZoF"
   },
   "outputs": [],
   "source": [
    "# import os\n",
    "# import shutil\n",
    "\n",
    "# def recursive_copy(src, dest):\n",
    "#     \"\"\"\n",
    "#     Copy each file from src dir to dest dir, including sub-directories.\n",
    "#     \"\"\"\n",
    "#     for item in tqdm_notebook(os.listdir(src)):\n",
    "#         file_path = os.path.join(src, item)\n",
    "\n",
    "#         # if item is a file, copy it\n",
    "#         if os.path.isfile(file_path):\n",
    "#             shutil.move(file_path, dest)\n",
    "\n",
    "#         # # else if item is a folder, recurse \n",
    "#         # elif os.path.isdir(file_path):\n",
    "#         #     new_dest = os.path.join(dest, item)\n",
    "#         #     os.mkdir(new_dest)\n",
    "#         #     recursive_copy(file_path, new_dest)\n",
    "# recursive_copy(root_dir,base_dir+'del')"
   ]
  },
  {
   "cell_type": "code",
   "execution_count": 0,
   "metadata": {
    "colab": {
     "base_uri": "https://localhost:8080/",
     "height": 332
    },
    "colab_type": "code",
    "executionInfo": {
     "elapsed": 7871,
     "status": "ok",
     "timestamp": 1577773056159,
     "user": {
      "displayName": "Srajan Gupta",
      "photoUrl": "https://lh3.googleusercontent.com/a-/AAuE7mBYbKqx6seqbDvLoUc2osk40cHBl9lGCpPmb4pA=s64",
      "userId": "03848760359771388424"
     },
     "user_tz": -330
    },
    "id": "RgWWBwzJxx8G",
    "outputId": "783d43a9-a74d-4ba6-a486-fd910b1e77a3"
   },
   "outputs": [
    {
     "name": "stdout",
     "output_type": "stream",
     "text": [
      "LabelLists;\n",
      "\n",
      "Train: LabelList (158144 items)\n",
      "x: ImageList\n",
      "Image (3, 186, 186),Image (3, 209, 200),Image (3, 218, 200),Image (3, 177, 177),Image (3, 196, 196)\n",
      "y: MultiCategoryList\n",
      "Arched_Eyebrows;Attractive;Brown_Hair;Heavy_Makeup;High_Cheekbones;Mouth_Slightly_Open;No_Beard;Pointy_Nose;Smiling;Straight_Hair;Wearing_Earrings;Wearing_Lipstick;Young,Bags_Under_Eyes;Big_Nose;Brown_Hair;High_Cheekbones;Mouth_Slightly_Open;No_Beard;Smiling;Young,Arched_Eyebrows;Attractive;Big_Lips;Heavy_Makeup;Narrow_Eyes;No_Beard;Pointy_Nose;Wearing_Lipstick;Young,Arched_Eyebrows;Attractive;Big_Lips;Brown_Hair;Heavy_Makeup;Mouth_Slightly_Open;No_Beard;Wavy_Hair;Wearing_Earrings;Wearing_Lipstick;Young,5_o_Clock_Shadow;Attractive;Bags_Under_Eyes;Big_Lips;Big_Nose;Black_Hair;Bushy_Eyebrows;Male;No_Beard;Pointy_Nose;Straight_Hair;Young\n",
      "Path: /content/celeba-dataset/faces;\n",
      "\n",
      "Valid: LabelList (17476 items)\n",
      "x: ImageList\n",
      "Image (3, 200, 199),Image (3, 231, 200),Image (3, 207, 200),Image (3, 212, 200),Image (3, 216, 200)\n",
      "y: MultiCategoryList\n",
      "Arched_Eyebrows;Bags_Under_Eyes;High_Cheekbones;Mouth_Slightly_Open;No_Beard;Pointy_Nose;Smiling;Wavy_Hair;Wearing_Earrings;Wearing_Hat,Big_Nose;Black_Hair;Bushy_Eyebrows;High_Cheekbones;Narrow_Eyes;No_Beard;Wavy_Hair;Wearing_Lipstick;Young,Attractive;Brown_Hair;Heavy_Makeup;High_Cheekbones;Mouth_Slightly_Open;No_Beard;Oval_Face;Smiling;Wavy_Hair;Wearing_Lipstick;Young,Attractive;Heavy_Makeup;High_Cheekbones;Mouth_Slightly_Open;No_Beard;Oval_Face;Pointy_Nose;Rosy_Cheeks;Smiling;Wearing_Earrings;Wearing_Lipstick;Young,Black_Hair;High_Cheekbones;Mouth_Slightly_Open;Narrow_Eyes;No_Beard;Smiling;Young\n",
      "Path: /content/celeba-dataset/faces;\n",
      "\n",
      "Test: None\n"
     ]
    }
   ],
   "source": [
    "src = (ImageList.from_csv(path, csv_name='labels.csv')\n",
    "       .split_by_valid_func(validation_func)\n",
    "       .label_from_df(cols='tags',label_delim=' '))\n",
    "print(src)\n",
    "data = (src.transform(tfms, size=128)\n",
    "       .databunch(bs=256).normalize(imagenet_stats))"
   ]
  },
  {
   "cell_type": "code",
   "execution_count": 0,
   "metadata": {
    "ExecuteTime": {
     "end_time": "2019-01-28T04:48:19.269262Z",
     "start_time": "2019-01-28T04:48:19.246102Z"
    },
    "colab": {
     "base_uri": "https://localhost:8080/",
     "height": 72
    },
    "colab_type": "code",
    "executionInfo": {
     "elapsed": 1932,
     "status": "ok",
     "timestamp": 1577773056162,
     "user": {
      "displayName": "Srajan Gupta",
      "photoUrl": "https://lh3.googleusercontent.com/a-/AAuE7mBYbKqx6seqbDvLoUc2osk40cHBl9lGCpPmb4pA=s64",
      "userId": "03848760359771388424"
     },
     "user_tz": -330
    },
    "hidden": true,
    "id": "5nNVZYpO_rVj",
    "outputId": "44a5d04d-3329-468d-c5fa-cda91da15401"
   },
   "outputs": [
    {
     "name": "stdout",
     "output_type": "stream",
     "text": [
      "40 \n",
      " ['5_o_Clock_Shadow', 'Arched_Eyebrows', 'Attractive', 'Bags_Under_Eyes', 'Bald', 'Bangs', 'Big_Lips', 'Big_Nose', 'Black_Hair', 'Blond_Hair', 'Blurry', 'Brown_Hair', 'Bushy_Eyebrows', 'Chubby', 'Double_Chin', 'Eyeglasses', 'Goatee', 'Gray_Hair', 'Heavy_Makeup', 'High_Cheekbones', 'Male', 'Mouth_Slightly_Open', 'Mustache', 'Narrow_Eyes', 'No_Beard', 'Oval_Face', 'Pale_Skin', 'Pointy_Nose', 'Receding_Hairline', 'Rosy_Cheeks', 'Sideburns', 'Smiling', 'Straight_Hair', 'Wavy_Hair', 'Wearing_Earrings', 'Wearing_Hat', 'Wearing_Lipstick', 'Wearing_Necklace', 'Wearing_Necktie', 'Young']\n"
     ]
    }
   ],
   "source": [
    "print(data.c,'\\n',data.classes)"
   ]
  },
  {
   "cell_type": "code",
   "execution_count": 0,
   "metadata": {
    "ExecuteTime": {
     "end_time": "2019-01-25T15:53:25.710700Z",
     "start_time": "2019-01-25T15:52:44.228547Z"
    },
    "colab": {
     "base_uri": "https://localhost:8080/",
     "height": 873
    },
    "colab_type": "code",
    "executionInfo": {
     "elapsed": 15435,
     "status": "ok",
     "timestamp": 1577773070881,
     "user": {
      "displayName": "Srajan Gupta",
      "photoUrl": "https://lh3.googleusercontent.com/a-/AAuE7mBYbKqx6seqbDvLoUc2osk40cHBl9lGCpPmb4pA=s64",
      "userId": "03848760359771388424"
     },
     "user_tz": -330
    },
    "hidden": true,
    "id": "QlvGZYxf_rVn",
    "outputId": "1c7dad69-ab80-447b-e597-7c60dc5fd696",
    "scrolled": false
   },
   "outputs": [
    {
     "data": {
      "image/png": "[encoded data removed]",
      "text/plain": [
       "<Figure size 1440x864 with 4 Axes>"
      ]
     },
     "metadata": {
      "tags": []
     },
     "output_type": "display_data"
    }
   ],
   "source": [
    "data.show_batch(rows=2, figsize=(20,12))"
   ]
  },
  {
   "cell_type": "markdown",
   "metadata": {
    "colab_type": "text",
    "heading_collapsed": true,
    "id": "h5Di4ka4_rVr"
   },
   "source": [
    "## Model"
   ]
  },
  {
   "cell_type": "markdown",
   "metadata": {
    "colab_type": "text",
    "hidden": true,
    "id": "FbN3GnZD_rVs"
   },
   "source": [
    "We are going to use a resnet50 pretrained model and do transfer learning on CelebA dataset."
   ]
  },
  {
   "cell_type": "code",
   "execution_count": 0,
   "metadata": {
    "ExecuteTime": {
     "end_time": "2019-01-25T15:53:25.737594Z",
     "start_time": "2019-01-25T15:53:25.712987Z"
    },
    "colab": {},
    "colab_type": "code",
    "hidden": true,
    "id": "7aX3zdrN_rVt"
   },
   "outputs": [],
   "source": [
    "arch = models.resnet50"
   ]
  },
  {
   "cell_type": "code",
   "execution_count": 0,
   "metadata": {
    "ExecuteTime": {
     "end_time": "2019-01-25T15:53:51.984931Z",
     "start_time": "2019-01-25T15:53:49.578261Z"
    },
    "colab": {},
    "colab_type": "code",
    "hidden": true,
    "id": "jiUUf2JY_rVx"
   },
   "outputs": [],
   "source": [
    "acc_02 = partial(accuracy_thresh, thresh=0.2)\n",
    "acc_03 = partial(accuracy_thresh, thresh=0.3)\n",
    "acc_04 = partial(accuracy_thresh, thresh=0.4)\n",
    "acc_05 = partial(accuracy_thresh, thresh=0.5)\n",
    "f_score = partial(fbeta, thresh=0.2)\n",
    "learn = cnn_learner(data, arch, metrics=[acc_02, acc_03, acc_04, acc_05, f_score])"
   ]
  },
  {
   "cell_type": "code",
   "execution_count": 0,
   "metadata": {
    "ExecuteTime": {
     "end_time": "2019-01-25T15:56:07.855770Z",
     "start_time": "2019-01-25T15:53:53.318093Z"
    },
    "colab": {
     "base_uri": "https://localhost:8080/",
     "height": 34
    },
    "colab_type": "code",
    "executionInfo": {
     "elapsed": 92762,
     "status": "ok",
     "timestamp": 1577773315001,
     "user": {
      "displayName": "Srajan Gupta",
      "photoUrl": "https://lh3.googleusercontent.com/a-/AAuE7mBYbKqx6seqbDvLoUc2osk40cHBl9lGCpPmb4pA=s64",
      "userId": "03848760359771388424"
     },
     "user_tz": -330
    },
    "hidden": true,
    "id": "IK2vVBvs_rV1",
    "outputId": "4ca0ae54-8c3d-4ac7-d506-2cf16e946925"
   },
   "outputs": [
    {
     "data": {
      "text/html": [],
      "text/plain": [
       "<IPython.core.display.HTML object>"
      ]
     },
     "metadata": {
      "tags": []
     },
     "output_type": "display_data"
    },
    {
     "name": "stdout",
     "output_type": "stream",
     "text": [
      "LR Finder is complete, type {learner_name}.recorder.plot() to see the graph.\n"
     ]
    }
   ],
   "source": [
    "learn.lr_find()"
   ]
  },
  {
   "cell_type": "code",
   "execution_count": 0,
   "metadata": {
    "ExecuteTime": {
     "end_time": "2019-01-25T15:56:08.199432Z",
     "start_time": "2019-01-25T15:56:07.858865Z"
    },
    "colab": {
     "base_uri": "https://localhost:8080/",
     "height": 279
    },
    "colab_type": "code",
    "executionInfo": {
     "elapsed": 90402,
     "status": "ok",
     "timestamp": 1577773315005,
     "user": {
      "displayName": "Srajan Gupta",
      "photoUrl": "https://lh3.googleusercontent.com/a-/AAuE7mBYbKqx6seqbDvLoUc2osk40cHBl9lGCpPmb4pA=s64",
      "userId": "03848760359771388424"
     },
     "user_tz": -330
    },
    "hidden": true,
    "id": "QABA4SD1_rV3",
    "outputId": "a56f3923-4a3d-4c09-b726-0cf34cb746e5"
   },
   "outputs": [
    {
     "data": {
      "image/png": "[encoded data removed]",
      "text/plain": [
       "<Figure size 432x288 with 1 Axes>"
      ]
     },
     "metadata": {
      "tags": []
     },
     "output_type": "display_data"
    }
   ],
   "source": [
    "learn.recorder.plot()"
   ]
  },
  {
   "cell_type": "code",
   "execution_count": 0,
   "metadata": {
    "ExecuteTime": {
     "end_time": "2019-01-25T15:56:22.594217Z",
     "start_time": "2019-01-25T15:56:22.575386Z"
    },
    "colab": {},
    "colab_type": "code",
    "hidden": true,
    "id": "sZcRZEtY_rV7"
   },
   "outputs": [],
   "source": [
    "lr = 1e-2"
   ]
  },
  {
   "cell_type": "code",
   "execution_count": 0,
   "metadata": {
    "ExecuteTime": {
     "end_time": "2019-01-25T16:10:09.111246Z",
     "start_time": "2019-01-25T15:56:27.005602Z"
    },
    "colab": {
     "base_uri": "https://localhost:8080/",
     "height": 81
    },
    "colab_type": "code",
    "executionInfo": {
     "elapsed": 730541,
     "status": "ok",
     "timestamp": 1577773958061,
     "user": {
      "displayName": "Srajan Gupta",
      "photoUrl": "https://lh3.googleusercontent.com/a-/AAuE7mBYbKqx6seqbDvLoUc2osk40cHBl9lGCpPmb4pA=s64",
      "userId": "03848760359771388424"
     },
     "user_tz": -330
    },
    "hidden": true,
    "id": "PNFZcqgo_rWB",
    "outputId": "dae19c5d-e676-41c4-8185-11048afb4be0"
   },
   "outputs": [
    {
     "data": {
      "text/html": [
       "<table border=\"1\" class=\"dataframe\">\n",
       "  <thead>\n",
       "    <tr style=\"text-align: left;\">\n",
       "      <th>epoch</th>\n",
       "      <th>train_loss</th>\n",
       "      <th>valid_loss</th>\n",
       "      <th>accuracy_thresh</th>\n",
       "      <th>accuracy_thresh</th>\n",
       "      <th>accuracy_thresh</th>\n",
       "      <th>accuracy_thresh</th>\n",
       "      <th>fbeta</th>\n",
       "      <th>time</th>\n",
       "    </tr>\n",
       "  </thead>\n",
       "  <tbody>\n",
       "    <tr>\n",
       "      <td>0</td>\n",
       "      <td>0.241422</td>\n",
       "      <td>0.231053</td>\n",
       "      <td>0.854257</td>\n",
       "      <td>0.882512</td>\n",
       "      <td>0.893819</td>\n",
       "      <td>0.896016</td>\n",
       "      <td>0.813257</td>\n",
       "      <td>10:42</td>\n",
       "    </tr>\n",
       "  </tbody>\n",
       "</table>"
      ],
      "text/plain": [
       "<IPython.core.display.HTML object>"
      ]
     },
     "metadata": {
      "tags": []
     },
     "output_type": "display_data"
    }
   ],
   "source": [
    "learn.fit_one_cycle(1, slice(lr))"
   ]
  },
  {
   "cell_type": "code",
   "execution_count": 0,
   "metadata": {
    "ExecuteTime": {
     "end_time": "2019-01-25T17:05:03.891656Z",
     "start_time": "2019-01-25T16:10:29.223066Z"
    },
    "colab": {
     "base_uri": "https://localhost:8080/",
     "height": 175
    },
    "colab_type": "code",
    "executionInfo": {
     "elapsed": 470677,
     "status": "ok",
     "timestamp": 1577776270475,
     "user": {
      "displayName": "Srajan Gupta",
      "photoUrl": "https://lh3.googleusercontent.com/a-/AAuE7mBYbKqx6seqbDvLoUc2osk40cHBl9lGCpPmb4pA=s64",
      "userId": "03848760359771388424"
     },
     "user_tz": -330
    },
    "hidden": true,
    "id": "wNnPhX5H_rWE",
    "outputId": "6223d44e-e333-470b-b979-263653c5fd6b"
   },
   "outputs": [
    {
     "data": {
      "text/html": [
       "<table border=\"1\" class=\"dataframe\">\n",
       "  <thead>\n",
       "    <tr style=\"text-align: left;\">\n",
       "      <th>epoch</th>\n",
       "      <th>train_loss</th>\n",
       "      <th>valid_loss</th>\n",
       "      <th>accuracy_thresh</th>\n",
       "      <th>accuracy_thresh</th>\n",
       "      <th>accuracy_thresh</th>\n",
       "      <th>accuracy_thresh</th>\n",
       "      <th>fbeta</th>\n",
       "      <th>time</th>\n",
       "    </tr>\n",
       "  </thead>\n",
       "  <tbody>\n",
       "    <tr>\n",
       "      <td>0</td>\n",
       "      <td>0.236025</td>\n",
       "      <td>0.226840</td>\n",
       "      <td>0.856620</td>\n",
       "      <td>0.881804</td>\n",
       "      <td>0.894102</td>\n",
       "      <td>0.897854</td>\n",
       "      <td>0.816025</td>\n",
       "      <td>09:45</td>\n",
       "    </tr>\n",
       "    <tr>\n",
       "      <td>1</td>\n",
       "      <td>0.223704</td>\n",
       "      <td>0.214570</td>\n",
       "      <td>0.868203</td>\n",
       "      <td>0.891491</td>\n",
       "      <td>0.901047</td>\n",
       "      <td>0.903172</td>\n",
       "      <td>0.826532</td>\n",
       "      <td>09:28</td>\n",
       "    </tr>\n",
       "    <tr>\n",
       "      <td>2</td>\n",
       "      <td>0.214489</td>\n",
       "      <td>0.206945</td>\n",
       "      <td>0.867814</td>\n",
       "      <td>0.892969</td>\n",
       "      <td>0.903845</td>\n",
       "      <td>0.906847</td>\n",
       "      <td>0.835240</td>\n",
       "      <td>09:30</td>\n",
       "    </tr>\n",
       "    <tr>\n",
       "      <td>3</td>\n",
       "      <td>0.211388</td>\n",
       "      <td>0.205007</td>\n",
       "      <td>0.871355</td>\n",
       "      <td>0.895329</td>\n",
       "      <td>0.905395</td>\n",
       "      <td>0.907713</td>\n",
       "      <td>0.836217</td>\n",
       "      <td>09:46</td>\n",
       "    </tr>\n",
       "  </tbody>\n",
       "</table>"
      ],
      "text/plain": [
       "<IPython.core.display.HTML object>"
      ]
     },
     "metadata": {
      "tags": []
     },
     "output_type": "display_data"
    }
   ],
   "source": [
    "learn.fit_one_cycle(4, slice(lr))"
   ]
  },
  {
   "cell_type": "code",
   "execution_count": 0,
   "metadata": {
    "ExecuteTime": {
     "end_time": "2019-01-25T17:05:04.054272Z",
     "start_time": "2019-01-25T17:05:03.894316Z"
    },
    "colab": {},
    "colab_type": "code",
    "hidden": true,
    "id": "4tWtgWHt_rWH"
   },
   "outputs": [],
   "source": [
    "learn.save('ff_stage-1-rn50')"
   ]
  },
  {
   "cell_type": "markdown",
   "metadata": {
    "colab_type": "text",
    "hidden": true,
    "id": "dhPeLg9P_rWK"
   },
   "source": [
    "Tuning the whole model"
   ]
  },
  {
   "cell_type": "code",
   "execution_count": 0,
   "metadata": {
    "ExecuteTime": {
     "end_time": "2019-01-25T17:05:04.081216Z",
     "start_time": "2019-01-25T17:05:04.056266Z"
    },
    "colab": {},
    "colab_type": "code",
    "hidden": true,
    "id": "jSBDV2_V_rWL"
   },
   "outputs": [],
   "source": [
    "learn.unfreeze()"
   ]
  },
  {
   "cell_type": "code",
   "execution_count": 0,
   "metadata": {
    "ExecuteTime": {
     "end_time": "2019-01-25T17:07:36.055990Z",
     "start_time": "2019-01-25T17:05:05.551868Z"
    },
    "colab": {
     "base_uri": "https://localhost:8080/",
     "height": 296
    },
    "colab_type": "code",
    "executionInfo": {
     "elapsed": 78418,
     "status": "ok",
     "timestamp": 1577169764813,
     "user": {
      "displayName": "Srajan Gupta",
      "photoUrl": "https://lh3.googleusercontent.com/a-/AAuE7mBYbKqx6seqbDvLoUc2osk40cHBl9lGCpPmb4pA=s64",
      "userId": "03848760359771388424"
     },
     "user_tz": -330
    },
    "hidden": true,
    "id": "euZlfC8P_rWO",
    "outputId": "32ed3aef-66b1-4273-de38-a82f7c4368a2"
   },
   "outputs": [
    {
     "data": {
      "text/html": [],
      "text/plain": [
       "<IPython.core.display.HTML object>"
      ]
     },
     "metadata": {
      "tags": []
     },
     "output_type": "display_data"
    },
    {
     "name": "stdout",
     "output_type": "stream",
     "text": [
      "LR Finder is complete, type {learner_name}.recorder.plot() to see the graph.\n"
     ]
    },
    {
     "data": {
      "image/png": "[encoded data removed]",
      "text/plain": [
       "<Figure size 432x288 with 1 Axes>"
      ]
     },
     "metadata": {
      "tags": []
     },
     "output_type": "display_data"
    }
   ],
   "source": [
    "learn.lr_find()\n",
    "learn.recorder.plot()"
   ]
  },
  {
   "cell_type": "code",
   "execution_count": 0,
   "metadata": {
    "ExecuteTime": {
     "end_time": "2019-01-25T18:38:07.242760Z",
     "start_time": "2019-01-25T17:07:43.339275Z"
    },
    "colab": {
     "base_uri": "https://localhost:8080/",
     "height": 206
    },
    "colab_type": "code",
    "executionInfo": {
     "elapsed": 785969,
     "status": "ok",
     "timestamp": 1577172517457,
     "user": {
      "displayName": "Srajan Gupta",
      "photoUrl": "https://lh3.googleusercontent.com/a-/AAuE7mBYbKqx6seqbDvLoUc2osk40cHBl9lGCpPmb4pA=s64",
      "userId": "03848760359771388424"
     },
     "user_tz": -330
    },
    "hidden": true,
    "id": "nmDSFdMm_rWR",
    "outputId": "23519687-bf88-45de-cc61-49efb4154a36"
   },
   "outputs": [
    {
     "data": {
      "text/html": [
       "<table border=\"1\" class=\"dataframe\">\n",
       "  <thead>\n",
       "    <tr style=\"text-align: left;\">\n",
       "      <th>epoch</th>\n",
       "      <th>train_loss</th>\n",
       "      <th>valid_loss</th>\n",
       "      <th>accuracy_thresh</th>\n",
       "      <th>accuracy_thresh</th>\n",
       "      <th>accuracy_thresh</th>\n",
       "      <th>accuracy_thresh</th>\n",
       "      <th>fbeta</th>\n",
       "      <th>time</th>\n",
       "    </tr>\n",
       "  </thead>\n",
       "  <tbody>\n",
       "    <tr>\n",
       "      <td>0</td>\n",
       "      <td>0.209195</td>\n",
       "      <td>0.202506</td>\n",
       "      <td>0.871641</td>\n",
       "      <td>0.895488</td>\n",
       "      <td>0.905704</td>\n",
       "      <td>0.908814</td>\n",
       "      <td>0.838421</td>\n",
       "      <td>09:13</td>\n",
       "    </tr>\n",
       "    <tr>\n",
       "      <td>1</td>\n",
       "      <td>0.204357</td>\n",
       "      <td>0.199600</td>\n",
       "      <td>0.873343</td>\n",
       "      <td>0.897067</td>\n",
       "      <td>0.907188</td>\n",
       "      <td>0.909936</td>\n",
       "      <td>0.842092</td>\n",
       "      <td>09:08</td>\n",
       "    </tr>\n",
       "    <tr>\n",
       "      <td>2</td>\n",
       "      <td>0.196408</td>\n",
       "      <td>0.195228</td>\n",
       "      <td>0.880824</td>\n",
       "      <td>0.900993</td>\n",
       "      <td>0.909839</td>\n",
       "      <td>0.912062</td>\n",
       "      <td>0.844887</td>\n",
       "      <td>09:08</td>\n",
       "    </tr>\n",
       "    <tr>\n",
       "      <td>3</td>\n",
       "      <td>0.191250</td>\n",
       "      <td>0.190498</td>\n",
       "      <td>0.884675</td>\n",
       "      <td>0.904088</td>\n",
       "      <td>0.912025</td>\n",
       "      <td>0.914350</td>\n",
       "      <td>0.848376</td>\n",
       "      <td>09:06</td>\n",
       "    </tr>\n",
       "    <tr>\n",
       "      <td>4</td>\n",
       "      <td>0.188224</td>\n",
       "      <td>0.189189</td>\n",
       "      <td>0.885489</td>\n",
       "      <td>0.904621</td>\n",
       "      <td>0.912536</td>\n",
       "      <td>0.914946</td>\n",
       "      <td>0.849588</td>\n",
       "      <td>09:14</td>\n",
       "    </tr>\n",
       "  </tbody>\n",
       "</table>"
      ],
      "text/plain": [
       "<IPython.core.display.HTML object>"
      ]
     },
     "metadata": {
      "tags": []
     },
     "output_type": "display_data"
    }
   ],
   "source": [
    "learn.fit_one_cycle(5, slice(1e-5, lr/5))"
   ]
  },
  {
   "cell_type": "code",
   "execution_count": 0,
   "metadata": {
    "ExecuteTime": {
     "end_time": "2019-01-25T18:38:07.628974Z",
     "start_time": "2019-01-25T18:38:07.246115Z"
    },
    "colab": {},
    "colab_type": "code",
    "hidden": true,
    "id": "REvnWf7x_rWU"
   },
   "outputs": [],
   "source": [
    "learn.save('ff_stage-2-rn50')"
   ]
  },
  {
   "cell_type": "markdown",
   "metadata": {
    "colab_type": "text",
    "id": "mkQcKyAK_rWW"
   },
   "source": [
    "## Further Training"
   ]
  },
  {
   "cell_type": "code",
   "execution_count": 0,
   "metadata": {
    "ExecuteTime": {
     "end_time": "2019-01-28T05:42:11.640169Z",
     "start_time": "2019-01-28T05:42:09.306609Z"
    },
    "colab": {},
    "colab_type": "code",
    "id": "hW67TgBX_rWX"
   },
   "outputs": [],
   "source": [
    "data = (src.transform(tfms, size=256)\n",
    "       .databunch(bs=64).normalize(imagenet_stats))"
   ]
  },
  {
   "cell_type": "code",
   "execution_count": 0,
   "metadata": {
    "ExecuteTime": {
     "end_time": "2019-01-28T05:42:47.912614Z",
     "start_time": "2019-01-28T05:42:11.642172Z"
    },
    "colab": {},
    "colab_type": "code",
    "id": "isK56oGo_rWa"
   },
   "outputs": [],
   "source": [
    "acc_05 = partial(accuracy_thresh, thresh=0.5)\n",
    "f_score = partial(fbeta, thresh=0.5)\n",
    "learn = cnn_learner(data, models.resnet50, pretrained=False,metrics=[acc_05, f_score])\n",
    "learn.load(\"ff_stage-2-rn50\")"
   ]
  },
  {
   "cell_type": "code",
   "execution_count": 0,
   "metadata": {
    "ExecuteTime": {
     "end_time": "2019-01-28T05:41:37.196838Z",
     "start_time": "2019-01-28T05:41:30.556Z"
    },
    "colab": {},
    "colab_type": "code",
    "id": "ourCOF9M_rWd"
   },
   "outputs": [],
   "source": [
    "learn.freeze()"
   ]
  },
  {
   "cell_type": "code",
   "execution_count": 0,
   "metadata": {
    "ExecuteTime": {
     "end_time": "2019-01-28T05:41:37.197719Z",
     "start_time": "2019-01-28T05:41:31.287Z"
    },
    "colab": {
     "base_uri": "https://localhost:8080/",
     "height": 296
    },
    "colab_type": "code",
    "executionInfo": {
     "elapsed": 47879,
     "status": "ok",
     "timestamp": 1577176235499,
     "user": {
      "displayName": "Srajan Gupta",
      "photoUrl": "https://lh3.googleusercontent.com/a-/AAuE7mBYbKqx6seqbDvLoUc2osk40cHBl9lGCpPmb4pA=s64",
      "userId": "03848760359771388424"
     },
     "user_tz": -330
    },
    "id": "9OIzoe3P_rWe",
    "outputId": "2c59d647-0768-4744-8aa3-9fd47e0f7ee6"
   },
   "outputs": [
    {
     "data": {
      "text/html": [],
      "text/plain": [
       "<IPython.core.display.HTML object>"
      ]
     },
     "metadata": {
      "tags": []
     },
     "output_type": "display_data"
    },
    {
     "name": "stdout",
     "output_type": "stream",
     "text": [
      "LR Finder is complete, type {learner_name}.recorder.plot() to see the graph.\n"
     ]
    },
    {
     "data": {
      "image/png": "[encoded data removed]",
      "text/plain": [
       "<Figure size 432x288 with 1 Axes>"
      ]
     },
     "metadata": {
      "tags": []
     },
     "output_type": "display_data"
    }
   ],
   "source": [
    "learn.lr_find()\n",
    "learn.recorder.plot()"
   ]
  },
  {
   "cell_type": "code",
   "execution_count": 0,
   "metadata": {
    "ExecuteTime": {
     "end_time": "2019-01-28T04:53:25.435880Z",
     "start_time": "2019-01-28T04:53:25.415462Z"
    },
    "colab": {},
    "colab_type": "code",
    "id": "ibO42kpE_rWh"
   },
   "outputs": [],
   "source": [
    "lr = 0.01"
   ]
  },
  {
   "cell_type": "code",
   "execution_count": 0,
   "metadata": {
    "ExecuteTime": {
     "end_time": "2019-01-28T04:54:36.374219Z",
     "start_time": "2019-01-28T04:53:33.721320Z"
    },
    "colab": {
     "base_uri": "https://localhost:8080/",
     "height": 81
    },
    "colab_type": "code",
    "executionInfo": {
     "elapsed": 1346037,
     "status": "ok",
     "timestamp": 1577177635077,
     "user": {
      "displayName": "Srajan Gupta",
      "photoUrl": "https://lh3.googleusercontent.com/a-/AAuE7mBYbKqx6seqbDvLoUc2osk40cHBl9lGCpPmb4pA=s64",
      "userId": "03848760359771388424"
     },
     "user_tz": -330
    },
    "id": "89VJs6Jm_rWj",
    "outputId": "ef2893ca-e69f-4b57-c082-b1f23ec7f72b"
   },
   "outputs": [
    {
     "data": {
      "text/html": [
       "<table border=\"1\" class=\"dataframe\">\n",
       "  <thead>\n",
       "    <tr style=\"text-align: left;\">\n",
       "      <th>epoch</th>\n",
       "      <th>train_loss</th>\n",
       "      <th>valid_loss</th>\n",
       "      <th>accuracy_thresh</th>\n",
       "      <th>fbeta</th>\n",
       "      <th>time</th>\n",
       "    </tr>\n",
       "  </thead>\n",
       "  <tbody>\n",
       "    <tr>\n",
       "      <td>0</td>\n",
       "      <td>0.199127</td>\n",
       "      <td>0.191591</td>\n",
       "      <td>0.913765</td>\n",
       "      <td>0.762412</td>\n",
       "      <td>22:25</td>\n",
       "    </tr>\n",
       "  </tbody>\n",
       "</table>"
      ],
      "text/plain": [
       "<IPython.core.display.HTML object>"
      ]
     },
     "metadata": {
      "tags": []
     },
     "output_type": "display_data"
    }
   ],
   "source": [
    "learn.fit_one_cycle(1, slice(lr))"
   ]
  },
  {
   "cell_type": "code",
   "execution_count": 0,
   "metadata": {
    "colab": {},
    "colab_type": "code",
    "id": "vkD-jvY6_rWl"
   },
   "outputs": [],
   "source": [
    "learn.save('ff_stage-1-256-rn50')"
   ]
  },
  {
   "cell_type": "code",
   "execution_count": 0,
   "metadata": {
    "colab": {},
    "colab_type": "code",
    "id": "K5vLq7cCqLLf"
   },
   "outputs": [],
   "source": [
    "learn.export()"
   ]
  },
  {
   "cell_type": "code",
   "execution_count": 0,
   "metadata": {
    "colab": {
     "base_uri": "https://localhost:8080/",
     "height": 34
    },
    "colab_type": "code",
    "executionInfo": {
     "elapsed": 1339345,
     "status": "ok",
     "timestamp": 1577177638383,
     "user": {
      "displayName": "Srajan Gupta",
      "photoUrl": "https://lh3.googleusercontent.com/a-/AAuE7mBYbKqx6seqbDvLoUc2osk40cHBl9lGCpPmb4pA=s64",
      "userId": "03848760359771388424"
     },
     "user_tz": -330
    },
    "id": "PZXnEI0TuNg0",
    "outputId": "f78bfe0b-ca26-4f6d-95cb-a765dfbc3b93"
   },
   "outputs": [
    {
     "data": {
      "text/plain": [
       "'/content/gdrive/My Drive/Colab Notebooks/export.pkl'"
      ]
     },
     "execution_count": 53,
     "metadata": {
      "tags": []
     },
     "output_type": "execute_result"
    }
   ],
   "source": [
    "shutil.copy2('/content/celeba-dataset/'+'faces/export.pkl','/content/gdrive/My Drive/Colab Notebooks')"
   ]
  },
  {
   "cell_type": "markdown",
   "metadata": {
    "colab_type": "text",
    "id": "v8wGEIGf_rWo"
   },
   "source": [
    "## Visualize"
   ]
  },
  {
   "cell_type": "code",
   "execution_count": 0,
   "metadata": {
    "ExecuteTime": {
     "end_time": "2019-01-28T05:42:49.849237Z",
     "start_time": "2019-01-28T05:42:47.915579Z"
    },
    "colab": {
     "base_uri": "https://localhost:8080/",
     "height": 1000
    },
    "colab_type": "code",
    "executionInfo": {
     "elapsed": 2845,
     "status": "ok",
     "timestamp": 1577177669134,
     "user": {
      "displayName": "Srajan Gupta",
      "photoUrl": "https://lh3.googleusercontent.com/a-/AAuE7mBYbKqx6seqbDvLoUc2osk40cHBl9lGCpPmb4pA=s64",
      "userId": "03848760359771388424"
     },
     "user_tz": -330
    },
    "id": "NWQgOh6__rWo",
    "outputId": "ad166466-59c9-40ca-9dc4-3385c04138e7"
   },
   "outputs": [
    {
     "name": "stderr",
     "output_type": "stream",
     "text": [
      "/usr/local/lib/python3.6/dist-packages/fastai/vision/learner.py:106: UserWarning: `create_cnn` is deprecated and is now named `cnn_learner`.\n",
      "  warn(\"`create_cnn` is deprecated and is now named `cnn_learner`.\")\n"
     ]
    },
    {
     "data": {
      "text/plain": [
       "Learner(data=ImageDataBunch;\n",
       "\n",
       "Train: LabelList (158144 items)\n",
       "x: ImageList\n",
       "Image (3, 256, 256),Image (3, 256, 256),Image (3, 256, 256),Image (3, 256, 256),Image (3, 256, 256)\n",
       "y: MultiCategoryList\n",
       "Arched_Eyebrows;Attractive;Brown_Hair;Heavy_Makeup;High_Cheekbones;Mouth_Slightly_Open;No_Beard;Pointy_Nose;Smiling;Straight_Hair;Wearing_Earrings;Wearing_Lipstick;Young,Bags_Under_Eyes;Big_Nose;Brown_Hair;High_Cheekbones;Mouth_Slightly_Open;No_Beard;Smiling;Young,Arched_Eyebrows;Attractive;Big_Lips;Heavy_Makeup;Narrow_Eyes;No_Beard;Pointy_Nose;Wearing_Lipstick;Young,Arched_Eyebrows;Attractive;Big_Lips;Brown_Hair;Heavy_Makeup;Mouth_Slightly_Open;No_Beard;Wavy_Hair;Wearing_Earrings;Wearing_Lipstick;Young,5_o_Clock_Shadow;Attractive;Bags_Under_Eyes;Big_Lips;Big_Nose;Black_Hair;Bushy_Eyebrows;Male;No_Beard;Pointy_Nose;Straight_Hair;Young\n",
       "Path: /content/celeba-dataset/faces;\n",
       "\n",
       "Valid: LabelList (17476 items)\n",
       "x: ImageList\n",
       "Image (3, 256, 256),Image (3, 256, 256),Image (3, 256, 256),Image (3, 256, 256),Image (3, 256, 256)\n",
       "y: MultiCategoryList\n",
       "Arched_Eyebrows;Bags_Under_Eyes;High_Cheekbones;Mouth_Slightly_Open;No_Beard;Pointy_Nose;Smiling;Wavy_Hair;Wearing_Earrings;Wearing_Hat,Big_Nose;Black_Hair;Bushy_Eyebrows;High_Cheekbones;Narrow_Eyes;No_Beard;Wavy_Hair;Wearing_Lipstick;Young,Attractive;Brown_Hair;Heavy_Makeup;High_Cheekbones;Mouth_Slightly_Open;No_Beard;Oval_Face;Smiling;Wavy_Hair;Wearing_Lipstick;Young,Attractive;Heavy_Makeup;High_Cheekbones;Mouth_Slightly_Open;No_Beard;Oval_Face;Pointy_Nose;Rosy_Cheeks;Smiling;Wearing_Earrings;Wearing_Lipstick;Young,Black_Hair;High_Cheekbones;Mouth_Slightly_Open;Narrow_Eyes;No_Beard;Smiling;Young\n",
       "Path: /content/celeba-dataset/faces;\n",
       "\n",
       "Test: None, model=Sequential(\n",
       "  (0): Sequential(\n",
       "    (0): Conv2d(3, 64, kernel_size=(7, 7), stride=(2, 2), padding=(3, 3), bias=False)\n",
       "    (1): BatchNorm2d(64, eps=1e-05, momentum=0.1, affine=True, track_running_stats=True)\n",
       "    (2): ReLU(inplace=True)\n",
       "    (3): MaxPool2d(kernel_size=3, stride=2, padding=1, dilation=1, ceil_mode=False)\n",
       "    (4): Sequential(\n",
       "      (0): Bottleneck(\n",
       "        (conv1): Conv2d(64, 64, kernel_size=(1, 1), stride=(1, 1), bias=False)\n",
       "        (bn1): BatchNorm2d(64, eps=1e-05, momentum=0.1, affine=True, track_running_stats=True)\n",
       "        (conv2): Conv2d(64, 64, kernel_size=(3, 3), stride=(1, 1), padding=(1, 1), bias=False)\n",
       "        (bn2): BatchNorm2d(64, eps=1e-05, momentum=0.1, affine=True, track_running_stats=True)\n",
       "        (conv3): Conv2d(64, 256, kernel_size=(1, 1), stride=(1, 1), bias=False)\n",
       "        (bn3): BatchNorm2d(256, eps=1e-05, momentum=0.1, affine=True, track_running_stats=True)\n",
       "        (relu): ReLU(inplace=True)\n",
       "        (downsample): Sequential(\n",
       "          (0): Conv2d(64, 256, kernel_size=(1, 1), stride=(1, 1), bias=False)\n",
       "          (1): BatchNorm2d(256, eps=1e-05, momentum=0.1, affine=True, track_running_stats=True)\n",
       "        )\n",
       "      )\n",
       "      (1): Bottleneck(\n",
       "        (conv1): Conv2d(256, 64, kernel_size=(1, 1), stride=(1, 1), bias=False)\n",
       "        (bn1): BatchNorm2d(64, eps=1e-05, momentum=0.1, affine=True, track_running_stats=True)\n",
       "        (conv2): Conv2d(64, 64, kernel_size=(3, 3), stride=(1, 1), padding=(1, 1), bias=False)\n",
       "        (bn2): BatchNorm2d(64, eps=1e-05, momentum=0.1, affine=True, track_running_stats=True)\n",
       "        (conv3): Conv2d(64, 256, kernel_size=(1, 1), stride=(1, 1), bias=False)\n",
       "        (bn3): BatchNorm2d(256, eps=1e-05, momentum=0.1, affine=True, track_running_stats=True)\n",
       "        (relu): ReLU(inplace=True)\n",
       "      )\n",
       "      (2): Bottleneck(\n",
       "        (conv1): Conv2d(256, 64, kernel_size=(1, 1), stride=(1, 1), bias=False)\n",
       "        (bn1): BatchNorm2d(64, eps=1e-05, momentum=0.1, affine=True, track_running_stats=True)\n",
       "        (conv2): Conv2d(64, 64, kernel_size=(3, 3), stride=(1, 1), padding=(1, 1), bias=False)\n",
       "        (bn2): BatchNorm2d(64, eps=1e-05, momentum=0.1, affine=True, track_running_stats=True)\n",
       "        (conv3): Conv2d(64, 256, kernel_size=(1, 1), stride=(1, 1), bias=False)\n",
       "        (bn3): BatchNorm2d(256, eps=1e-05, momentum=0.1, affine=True, track_running_stats=True)\n",
       "        (relu): ReLU(inplace=True)\n",
       "      )\n",
       "    )\n",
       "    (5): Sequential(\n",
       "      (0): Bottleneck(\n",
       "        (conv1): Conv2d(256, 128, kernel_size=(1, 1), stride=(1, 1), bias=False)\n",
       "        (bn1): BatchNorm2d(128, eps=1e-05, momentum=0.1, affine=True, track_running_stats=True)\n",
       "        (conv2): Conv2d(128, 128, kernel_size=(3, 3), stride=(2, 2), padding=(1, 1), bias=False)\n",
       "        (bn2): BatchNorm2d(128, eps=1e-05, momentum=0.1, affine=True, track_running_stats=True)\n",
       "        (conv3): Conv2d(128, 512, kernel_size=(1, 1), stride=(1, 1), bias=False)\n",
       "        (bn3): BatchNorm2d(512, eps=1e-05, momentum=0.1, affine=True, track_running_stats=True)\n",
       "        (relu): ReLU(inplace=True)\n",
       "        (downsample): Sequential(\n",
       "          (0): Conv2d(256, 512, kernel_size=(1, 1), stride=(2, 2), bias=False)\n",
       "          (1): BatchNorm2d(512, eps=1e-05, momentum=0.1, affine=True, track_running_stats=True)\n",
       "        )\n",
       "      )\n",
       "      (1): Bottleneck(\n",
       "        (conv1): Conv2d(512, 128, kernel_size=(1, 1), stride=(1, 1), bias=False)\n",
       "        (bn1): BatchNorm2d(128, eps=1e-05, momentum=0.1, affine=True, track_running_stats=True)\n",
       "        (conv2): Conv2d(128, 128, kernel_size=(3, 3), stride=(1, 1), padding=(1, 1), bias=False)\n",
       "        (bn2): BatchNorm2d(128, eps=1e-05, momentum=0.1, affine=True, track_running_stats=True)\n",
       "        (conv3): Conv2d(128, 512, kernel_size=(1, 1), stride=(1, 1), bias=False)\n",
       "        (bn3): BatchNorm2d(512, eps=1e-05, momentum=0.1, affine=True, track_running_stats=True)\n",
       "        (relu): ReLU(inplace=True)\n",
       "      )\n",
       "      (2): Bottleneck(\n",
       "        (conv1): Conv2d(512, 128, kernel_size=(1, 1), stride=(1, 1), bias=False)\n",
       "        (bn1): BatchNorm2d(128, eps=1e-05, momentum=0.1, affine=True, track_running_stats=True)\n",
       "        (conv2): Conv2d(128, 128, kernel_size=(3, 3), stride=(1, 1), padding=(1, 1), bias=False)\n",
       "        (bn2): BatchNorm2d(128, eps=1e-05, momentum=0.1, affine=True, track_running_stats=True)\n",
       "        (conv3): Conv2d(128, 512, kernel_size=(1, 1), stride=(1, 1), bias=False)\n",
       "        (bn3): BatchNorm2d(512, eps=1e-05, momentum=0.1, affine=True, track_running_stats=True)\n",
       "        (relu): ReLU(inplace=True)\n",
       "      )\n",
       "      (3): Bottleneck(\n",
       "        (conv1): Conv2d(512, 128, kernel_size=(1, 1), stride=(1, 1), bias=False)\n",
       "        (bn1): BatchNorm2d(128, eps=1e-05, momentum=0.1, affine=True, track_running_stats=True)\n",
       "        (conv2): Conv2d(128, 128, kernel_size=(3, 3), stride=(1, 1), padding=(1, 1), bias=False)\n",
       "        (bn2): BatchNorm2d(128, eps=1e-05, momentum=0.1, affine=True, track_running_stats=True)\n",
       "        (conv3): Conv2d(128, 512, kernel_size=(1, 1), stride=(1, 1), bias=False)\n",
       "        (bn3): BatchNorm2d(512, eps=1e-05, momentum=0.1, affine=True, track_running_stats=True)\n",
       "        (relu): ReLU(inplace=True)\n",
       "      )\n",
       "    )\n",
       "    (6): Sequential(\n",
       "      (0): Bottleneck(\n",
       "        (conv1): Conv2d(512, 256, kernel_size=(1, 1), stride=(1, 1), bias=False)\n",
       "        (bn1): BatchNorm2d(256, eps=1e-05, momentum=0.1, affine=True, track_running_stats=True)\n",
       "        (conv2): Conv2d(256, 256, kernel_size=(3, 3), stride=(2, 2), padding=(1, 1), bias=False)\n",
       "        (bn2): BatchNorm2d(256, eps=1e-05, momentum=0.1, affine=True, track_running_stats=True)\n",
       "        (conv3): Conv2d(256, 1024, kernel_size=(1, 1), stride=(1, 1), bias=False)\n",
       "        (bn3): BatchNorm2d(1024, eps=1e-05, momentum=0.1, affine=True, track_running_stats=True)\n",
       "        (relu): ReLU(inplace=True)\n",
       "        (downsample): Sequential(\n",
       "          (0): Conv2d(512, 1024, kernel_size=(1, 1), stride=(2, 2), bias=False)\n",
       "          (1): BatchNorm2d(1024, eps=1e-05, momentum=0.1, affine=True, track_running_stats=True)\n",
       "        )\n",
       "      )\n",
       "      (1): Bottleneck(\n",
       "        (conv1): Conv2d(1024, 256, kernel_size=(1, 1), stride=(1, 1), bias=False)\n",
       "        (bn1): BatchNorm2d(256, eps=1e-05, momentum=0.1, affine=True, track_running_stats=True)\n",
       "        (conv2): Conv2d(256, 256, kernel_size=(3, 3), stride=(1, 1), padding=(1, 1), bias=False)\n",
       "        (bn2): BatchNorm2d(256, eps=1e-05, momentum=0.1, affine=True, track_running_stats=True)\n",
       "        (conv3): Conv2d(256, 1024, kernel_size=(1, 1), stride=(1, 1), bias=False)\n",
       "        (bn3): BatchNorm2d(1024, eps=1e-05, momentum=0.1, affine=True, track_running_stats=True)\n",
       "        (relu): ReLU(inplace=True)\n",
       "      )\n",
       "      (2): Bottleneck(\n",
       "        (conv1): Conv2d(1024, 256, kernel_size=(1, 1), stride=(1, 1), bias=False)\n",
       "        (bn1): BatchNorm2d(256, eps=1e-05, momentum=0.1, affine=True, track_running_stats=True)\n",
       "        (conv2): Conv2d(256, 256, kernel_size=(3, 3), stride=(1, 1), padding=(1, 1), bias=False)\n",
       "        (bn2): BatchNorm2d(256, eps=1e-05, momentum=0.1, affine=True, track_running_stats=True)\n",
       "        (conv3): Conv2d(256, 1024, kernel_size=(1, 1), stride=(1, 1), bias=False)\n",
       "        (bn3): BatchNorm2d(1024, eps=1e-05, momentum=0.1, affine=True, track_running_stats=True)\n",
       "        (relu): ReLU(inplace=True)\n",
       "      )\n",
       "      (3): Bottleneck(\n",
       "        (conv1): Conv2d(1024, 256, kernel_size=(1, 1), stride=(1, 1), bias=False)\n",
       "        (bn1): BatchNorm2d(256, eps=1e-05, momentum=0.1, affine=True, track_running_stats=True)\n",
       "        (conv2): Conv2d(256, 256, kernel_size=(3, 3), stride=(1, 1), padding=(1, 1), bias=False)\n",
       "        (bn2): BatchNorm2d(256, eps=1e-05, momentum=0.1, affine=True, track_running_stats=True)\n",
       "        (conv3): Conv2d(256, 1024, kernel_size=(1, 1), stride=(1, 1), bias=False)\n",
       "        (bn3): BatchNorm2d(1024, eps=1e-05, momentum=0.1, affine=True, track_running_stats=True)\n",
       "        (relu): ReLU(inplace=True)\n",
       "      )\n",
       "      (4): Bottleneck(\n",
       "        (conv1): Conv2d(1024, 256, kernel_size=(1, 1), stride=(1, 1), bias=False)\n",
       "        (bn1): BatchNorm2d(256, eps=1e-05, momentum=0.1, affine=True, track_running_stats=True)\n",
       "        (conv2): Conv2d(256, 256, kernel_size=(3, 3), stride=(1, 1), padding=(1, 1), bias=False)\n",
       "        (bn2): BatchNorm2d(256, eps=1e-05, momentum=0.1, affine=True, track_running_stats=True)\n",
       "        (conv3): Conv2d(256, 1024, kernel_size=(1, 1), stride=(1, 1), bias=False)\n",
       "        (bn3): BatchNorm2d(1024, eps=1e-05, momentum=0.1, affine=True, track_running_stats=True)\n",
       "        (relu): ReLU(inplace=True)\n",
       "      )\n",
       "      (5): Bottleneck(\n",
       "        (conv1): Conv2d(1024, 256, kernel_size=(1, 1), stride=(1, 1), bias=False)\n",
       "        (bn1): BatchNorm2d(256, eps=1e-05, momentum=0.1, affine=True, track_running_stats=True)\n",
       "        (conv2): Conv2d(256, 256, kernel_size=(3, 3), stride=(1, 1), padding=(1, 1), bias=False)\n",
       "        (bn2): BatchNorm2d(256, eps=1e-05, momentum=0.1, affine=True, track_running_stats=True)\n",
       "        (conv3): Conv2d(256, 1024, kernel_size=(1, 1), stride=(1, 1), bias=False)\n",
       "        (bn3): BatchNorm2d(1024, eps=1e-05, momentum=0.1, affine=True, track_running_stats=True)\n",
       "        (relu): ReLU(inplace=True)\n",
       "      )\n",
       "    )\n",
       "    (7): Sequential(\n",
       "      (0): Bottleneck(\n",
       "        (conv1): Conv2d(1024, 512, kernel_size=(1, 1), stride=(1, 1), bias=False)\n",
       "        (bn1): BatchNorm2d(512, eps=1e-05, momentum=0.1, affine=True, track_running_stats=True)\n",
       "        (conv2): Conv2d(512, 512, kernel_size=(3, 3), stride=(2, 2), padding=(1, 1), bias=False)\n",
       "        (bn2): BatchNorm2d(512, eps=1e-05, momentum=0.1, affine=True, track_running_stats=True)\n",
       "        (conv3): Conv2d(512, 2048, kernel_size=(1, 1), stride=(1, 1), bias=False)\n",
       "        (bn3): BatchNorm2d(2048, eps=1e-05, momentum=0.1, affine=True, track_running_stats=True)\n",
       "        (relu): ReLU(inplace=True)\n",
       "        (downsample): Sequential(\n",
       "          (0): Conv2d(1024, 2048, kernel_size=(1, 1), stride=(2, 2), bias=False)\n",
       "          (1): BatchNorm2d(2048, eps=1e-05, momentum=0.1, affine=True, track_running_stats=True)\n",
       "        )\n",
       "      )\n",
       "      (1): Bottleneck(\n",
       "        (conv1): Conv2d(2048, 512, kernel_size=(1, 1), stride=(1, 1), bias=False)\n",
       "        (bn1): BatchNorm2d(512, eps=1e-05, momentum=0.1, affine=True, track_running_stats=True)\n",
       "        (conv2): Conv2d(512, 512, kernel_size=(3, 3), stride=(1, 1), padding=(1, 1), bias=False)\n",
       "        (bn2): BatchNorm2d(512, eps=1e-05, momentum=0.1, affine=True, track_running_stats=True)\n",
       "        (conv3): Conv2d(512, 2048, kernel_size=(1, 1), stride=(1, 1), bias=False)\n",
       "        (bn3): BatchNorm2d(2048, eps=1e-05, momentum=0.1, affine=True, track_running_stats=True)\n",
       "        (relu): ReLU(inplace=True)\n",
       "      )\n",
       "      (2): Bottleneck(\n",
       "        (conv1): Conv2d(2048, 512, kernel_size=(1, 1), stride=(1, 1), bias=False)\n",
       "        (bn1): BatchNorm2d(512, eps=1e-05, momentum=0.1, affine=True, track_running_stats=True)\n",
       "        (conv2): Conv2d(512, 512, kernel_size=(3, 3), stride=(1, 1), padding=(1, 1), bias=False)\n",
       "        (bn2): BatchNorm2d(512, eps=1e-05, momentum=0.1, affine=True, track_running_stats=True)\n",
       "        (conv3): Conv2d(512, 2048, kernel_size=(1, 1), stride=(1, 1), bias=False)\n",
       "        (bn3): BatchNorm2d(2048, eps=1e-05, momentum=0.1, affine=True, track_running_stats=True)\n",
       "        (relu): ReLU(inplace=True)\n",
       "      )\n",
       "    )\n",
       "  )\n",
       "  (1): Sequential(\n",
       "    (0): AdaptiveConcatPool2d(\n",
       "      (ap): AdaptiveAvgPool2d(output_size=1)\n",
       "      (mp): AdaptiveMaxPool2d(output_size=1)\n",
       "    )\n",
       "    (1): Flatten()\n",
       "    (2): BatchNorm1d(4096, eps=1e-05, momentum=0.1, affine=True, track_running_stats=True)\n",
       "    (3): Dropout(p=0.25, inplace=False)\n",
       "    (4): Linear(in_features=4096, out_features=512, bias=True)\n",
       "    (5): ReLU(inplace=True)\n",
       "    (6): BatchNorm1d(512, eps=1e-05, momentum=0.1, affine=True, track_running_stats=True)\n",
       "    (7): Dropout(p=0.5, inplace=False)\n",
       "    (8): Linear(in_features=512, out_features=40, bias=True)\n",
       "  )\n",
       "), opt_func=functools.partial(<class 'torch.optim.adam.Adam'>, betas=(0.9, 0.99)), loss_func=FlattenedLoss of BCEWithLogitsLoss(), metrics=[], true_wd=True, bn_wd=True, wd=0.01, train_bn=True, path=PosixPath('/content/celeba-dataset/faces'), model_dir='models', callback_fns=[functools.partial(<class 'fastai.basic_train.Recorder'>, add_time=True, silent=False)], callbacks=[], layer_groups=[Sequential(\n",
       "  (0): Conv2d(3, 64, kernel_size=(7, 7), stride=(2, 2), padding=(3, 3), bias=False)\n",
       "  (1): BatchNorm2d(64, eps=1e-05, momentum=0.1, affine=True, track_running_stats=True)\n",
       "  (2): ReLU(inplace=True)\n",
       "  (3): MaxPool2d(kernel_size=3, stride=2, padding=1, dilation=1, ceil_mode=False)\n",
       "  (4): Conv2d(64, 64, kernel_size=(1, 1), stride=(1, 1), bias=False)\n",
       "  (5): BatchNorm2d(64, eps=1e-05, momentum=0.1, affine=True, track_running_stats=True)\n",
       "  (6): Conv2d(64, 64, kernel_size=(3, 3), stride=(1, 1), padding=(1, 1), bias=False)\n",
       "  (7): BatchNorm2d(64, eps=1e-05, momentum=0.1, affine=True, track_running_stats=True)\n",
       "  (8): Conv2d(64, 256, kernel_size=(1, 1), stride=(1, 1), bias=False)\n",
       "  (9): BatchNorm2d(256, eps=1e-05, momentum=0.1, affine=True, track_running_stats=True)\n",
       "  (10): ReLU(inplace=True)\n",
       "  (11): Conv2d(64, 256, kernel_size=(1, 1), stride=(1, 1), bias=False)\n",
       "  (12): BatchNorm2d(256, eps=1e-05, momentum=0.1, affine=True, track_running_stats=True)\n",
       "  (13): Conv2d(256, 64, kernel_size=(1, 1), stride=(1, 1), bias=False)\n",
       "  (14): BatchNorm2d(64, eps=1e-05, momentum=0.1, affine=True, track_running_stats=True)\n",
       "  (15): Conv2d(64, 64, kernel_size=(3, 3), stride=(1, 1), padding=(1, 1), bias=False)\n",
       "  (16): BatchNorm2d(64, eps=1e-05, momentum=0.1, affine=True, track_running_stats=True)\n",
       "  (17): Conv2d(64, 256, kernel_size=(1, 1), stride=(1, 1), bias=False)\n",
       "  (18): BatchNorm2d(256, eps=1e-05, momentum=0.1, affine=True, track_running_stats=True)\n",
       "  (19): ReLU(inplace=True)\n",
       "  (20): Conv2d(256, 64, kernel_size=(1, 1), stride=(1, 1), bias=False)\n",
       "  (21): BatchNorm2d(64, eps=1e-05, momentum=0.1, affine=True, track_running_stats=True)\n",
       "  (22): Conv2d(64, 64, kernel_size=(3, 3), stride=(1, 1), padding=(1, 1), bias=False)\n",
       "  (23): BatchNorm2d(64, eps=1e-05, momentum=0.1, affine=True, track_running_stats=True)\n",
       "  (24): Conv2d(64, 256, kernel_size=(1, 1), stride=(1, 1), bias=False)\n",
       "  (25): BatchNorm2d(256, eps=1e-05, momentum=0.1, affine=True, track_running_stats=True)\n",
       "  (26): ReLU(inplace=True)\n",
       "  (27): Conv2d(256, 128, kernel_size=(1, 1), stride=(1, 1), bias=False)\n",
       "  (28): BatchNorm2d(128, eps=1e-05, momentum=0.1, affine=True, track_running_stats=True)\n",
       "  (29): Conv2d(128, 128, kernel_size=(3, 3), stride=(2, 2), padding=(1, 1), bias=False)\n",
       "  (30): BatchNorm2d(128, eps=1e-05, momentum=0.1, affine=True, track_running_stats=True)\n",
       "  (31): Conv2d(128, 512, kernel_size=(1, 1), stride=(1, 1), bias=False)\n",
       "  (32): BatchNorm2d(512, eps=1e-05, momentum=0.1, affine=True, track_running_stats=True)\n",
       "  (33): ReLU(inplace=True)\n",
       "  (34): Conv2d(256, 512, kernel_size=(1, 1), stride=(2, 2), bias=False)\n",
       "  (35): BatchNorm2d(512, eps=1e-05, momentum=0.1, affine=True, track_running_stats=True)\n",
       "  (36): Conv2d(512, 128, kernel_size=(1, 1), stride=(1, 1), bias=False)\n",
       "  (37): BatchNorm2d(128, eps=1e-05, momentum=0.1, affine=True, track_running_stats=True)\n",
       "  (38): Conv2d(128, 128, kernel_size=(3, 3), stride=(1, 1), padding=(1, 1), bias=False)\n",
       "  (39): BatchNorm2d(128, eps=1e-05, momentum=0.1, affine=True, track_running_stats=True)\n",
       "  (40): Conv2d(128, 512, kernel_size=(1, 1), stride=(1, 1), bias=False)\n",
       "  (41): BatchNorm2d(512, eps=1e-05, momentum=0.1, affine=True, track_running_stats=True)\n",
       "  (42): ReLU(inplace=True)\n",
       "  (43): Conv2d(512, 128, kernel_size=(1, 1), stride=(1, 1), bias=False)\n",
       "  (44): BatchNorm2d(128, eps=1e-05, momentum=0.1, affine=True, track_running_stats=True)\n",
       "  (45): Conv2d(128, 128, kernel_size=(3, 3), stride=(1, 1), padding=(1, 1), bias=False)\n",
       "  (46): BatchNorm2d(128, eps=1e-05, momentum=0.1, affine=True, track_running_stats=True)\n",
       "  (47): Conv2d(128, 512, kernel_size=(1, 1), stride=(1, 1), bias=False)\n",
       "  (48): BatchNorm2d(512, eps=1e-05, momentum=0.1, affine=True, track_running_stats=True)\n",
       "  (49): ReLU(inplace=True)\n",
       "  (50): Conv2d(512, 128, kernel_size=(1, 1), stride=(1, 1), bias=False)\n",
       "  (51): BatchNorm2d(128, eps=1e-05, momentum=0.1, affine=True, track_running_stats=True)\n",
       "  (52): Conv2d(128, 128, kernel_size=(3, 3), stride=(1, 1), padding=(1, 1), bias=False)\n",
       "  (53): BatchNorm2d(128, eps=1e-05, momentum=0.1, affine=True, track_running_stats=True)\n",
       "  (54): Conv2d(128, 512, kernel_size=(1, 1), stride=(1, 1), bias=False)\n",
       "  (55): BatchNorm2d(512, eps=1e-05, momentum=0.1, affine=True, track_running_stats=True)\n",
       "  (56): ReLU(inplace=True)\n",
       "), Sequential(\n",
       "  (0): Conv2d(512, 256, kernel_size=(1, 1), stride=(1, 1), bias=False)\n",
       "  (1): BatchNorm2d(256, eps=1e-05, momentum=0.1, affine=True, track_running_stats=True)\n",
       "  (2): Conv2d(256, 256, kernel_size=(3, 3), stride=(2, 2), padding=(1, 1), bias=False)\n",
       "  (3): BatchNorm2d(256, eps=1e-05, momentum=0.1, affine=True, track_running_stats=True)\n",
       "  (4): Conv2d(256, 1024, kernel_size=(1, 1), stride=(1, 1), bias=False)\n",
       "  (5): BatchNorm2d(1024, eps=1e-05, momentum=0.1, affine=True, track_running_stats=True)\n",
       "  (6): ReLU(inplace=True)\n",
       "  (7): Conv2d(512, 1024, kernel_size=(1, 1), stride=(2, 2), bias=False)\n",
       "  (8): BatchNorm2d(1024, eps=1e-05, momentum=0.1, affine=True, track_running_stats=True)\n",
       "  (9): Conv2d(1024, 256, kernel_size=(1, 1), stride=(1, 1), bias=False)\n",
       "  (10): BatchNorm2d(256, eps=1e-05, momentum=0.1, affine=True, track_running_stats=True)\n",
       "  (11): Conv2d(256, 256, kernel_size=(3, 3), stride=(1, 1), padding=(1, 1), bias=False)\n",
       "  (12): BatchNorm2d(256, eps=1e-05, momentum=0.1, affine=True, track_running_stats=True)\n",
       "  (13): Conv2d(256, 1024, kernel_size=(1, 1), stride=(1, 1), bias=False)\n",
       "  (14): BatchNorm2d(1024, eps=1e-05, momentum=0.1, affine=True, track_running_stats=True)\n",
       "  (15): ReLU(inplace=True)\n",
       "  (16): Conv2d(1024, 256, kernel_size=(1, 1), stride=(1, 1), bias=False)\n",
       "  (17): BatchNorm2d(256, eps=1e-05, momentum=0.1, affine=True, track_running_stats=True)\n",
       "  (18): Conv2d(256, 256, kernel_size=(3, 3), stride=(1, 1), padding=(1, 1), bias=False)\n",
       "  (19): BatchNorm2d(256, eps=1e-05, momentum=0.1, affine=True, track_running_stats=True)\n",
       "  (20): Conv2d(256, 1024, kernel_size=(1, 1), stride=(1, 1), bias=False)\n",
       "  (21): BatchNorm2d(1024, eps=1e-05, momentum=0.1, affine=True, track_running_stats=True)\n",
       "  (22): ReLU(inplace=True)\n",
       "  (23): Conv2d(1024, 256, kernel_size=(1, 1), stride=(1, 1), bias=False)\n",
       "  (24): BatchNorm2d(256, eps=1e-05, momentum=0.1, affine=True, track_running_stats=True)\n",
       "  (25): Conv2d(256, 256, kernel_size=(3, 3), stride=(1, 1), padding=(1, 1), bias=False)\n",
       "  (26): BatchNorm2d(256, eps=1e-05, momentum=0.1, affine=True, track_running_stats=True)\n",
       "  (27): Conv2d(256, 1024, kernel_size=(1, 1), stride=(1, 1), bias=False)\n",
       "  (28): BatchNorm2d(1024, eps=1e-05, momentum=0.1, affine=True, track_running_stats=True)\n",
       "  (29): ReLU(inplace=True)\n",
       "  (30): Conv2d(1024, 256, kernel_size=(1, 1), stride=(1, 1), bias=False)\n",
       "  (31): BatchNorm2d(256, eps=1e-05, momentum=0.1, affine=True, track_running_stats=True)\n",
       "  (32): Conv2d(256, 256, kernel_size=(3, 3), stride=(1, 1), padding=(1, 1), bias=False)\n",
       "  (33): BatchNorm2d(256, eps=1e-05, momentum=0.1, affine=True, track_running_stats=True)\n",
       "  (34): Conv2d(256, 1024, kernel_size=(1, 1), stride=(1, 1), bias=False)\n",
       "  (35): BatchNorm2d(1024, eps=1e-05, momentum=0.1, affine=True, track_running_stats=True)\n",
       "  (36): ReLU(inplace=True)\n",
       "  (37): Conv2d(1024, 256, kernel_size=(1, 1), stride=(1, 1), bias=False)\n",
       "  (38): BatchNorm2d(256, eps=1e-05, momentum=0.1, affine=True, track_running_stats=True)\n",
       "  (39): Conv2d(256, 256, kernel_size=(3, 3), stride=(1, 1), padding=(1, 1), bias=False)\n",
       "  (40): BatchNorm2d(256, eps=1e-05, momentum=0.1, affine=True, track_running_stats=True)\n",
       "  (41): Conv2d(256, 1024, kernel_size=(1, 1), stride=(1, 1), bias=False)\n",
       "  (42): BatchNorm2d(1024, eps=1e-05, momentum=0.1, affine=True, track_running_stats=True)\n",
       "  (43): ReLU(inplace=True)\n",
       "  (44): Conv2d(1024, 512, kernel_size=(1, 1), stride=(1, 1), bias=False)\n",
       "  (45): BatchNorm2d(512, eps=1e-05, momentum=0.1, affine=True, track_running_stats=True)\n",
       "  (46): Conv2d(512, 512, kernel_size=(3, 3), stride=(2, 2), padding=(1, 1), bias=False)\n",
       "  (47): BatchNorm2d(512, eps=1e-05, momentum=0.1, affine=True, track_running_stats=True)\n",
       "  (48): Conv2d(512, 2048, kernel_size=(1, 1), stride=(1, 1), bias=False)\n",
       "  (49): BatchNorm2d(2048, eps=1e-05, momentum=0.1, affine=True, track_running_stats=True)\n",
       "  (50): ReLU(inplace=True)\n",
       "  (51): Conv2d(1024, 2048, kernel_size=(1, 1), stride=(2, 2), bias=False)\n",
       "  (52): BatchNorm2d(2048, eps=1e-05, momentum=0.1, affine=True, track_running_stats=True)\n",
       "  (53): Conv2d(2048, 512, kernel_size=(1, 1), stride=(1, 1), bias=False)\n",
       "  (54): BatchNorm2d(512, eps=1e-05, momentum=0.1, affine=True, track_running_stats=True)\n",
       "  (55): Conv2d(512, 512, kernel_size=(3, 3), stride=(1, 1), padding=(1, 1), bias=False)\n",
       "  (56): BatchNorm2d(512, eps=1e-05, momentum=0.1, affine=True, track_running_stats=True)\n",
       "  (57): Conv2d(512, 2048, kernel_size=(1, 1), stride=(1, 1), bias=False)\n",
       "  (58): BatchNorm2d(2048, eps=1e-05, momentum=0.1, affine=True, track_running_stats=True)\n",
       "  (59): ReLU(inplace=True)\n",
       "  (60): Conv2d(2048, 512, kernel_size=(1, 1), stride=(1, 1), bias=False)\n",
       "  (61): BatchNorm2d(512, eps=1e-05, momentum=0.1, affine=True, track_running_stats=True)\n",
       "  (62): Conv2d(512, 512, kernel_size=(3, 3), stride=(1, 1), padding=(1, 1), bias=False)\n",
       "  (63): BatchNorm2d(512, eps=1e-05, momentum=0.1, affine=True, track_running_stats=True)\n",
       "  (64): Conv2d(512, 2048, kernel_size=(1, 1), stride=(1, 1), bias=False)\n",
       "  (65): BatchNorm2d(2048, eps=1e-05, momentum=0.1, affine=True, track_running_stats=True)\n",
       "  (66): ReLU(inplace=True)\n",
       "), Sequential(\n",
       "  (0): AdaptiveAvgPool2d(output_size=1)\n",
       "  (1): AdaptiveMaxPool2d(output_size=1)\n",
       "  (2): Flatten()\n",
       "  (3): BatchNorm1d(4096, eps=1e-05, momentum=0.1, affine=True, track_running_stats=True)\n",
       "  (4): Dropout(p=0.25, inplace=False)\n",
       "  (5): Linear(in_features=4096, out_features=512, bias=True)\n",
       "  (6): ReLU(inplace=True)\n",
       "  (7): BatchNorm1d(512, eps=1e-05, momentum=0.1, affine=True, track_running_stats=True)\n",
       "  (8): Dropout(p=0.5, inplace=False)\n",
       "  (9): Linear(in_features=512, out_features=40, bias=True)\n",
       ")], add_time=True, silent=False)"
      ]
     },
     "execution_count": 54,
     "metadata": {
      "tags": []
     },
     "output_type": "execute_result"
    }
   ],
   "source": [
    "learn = cnn_learner(data, models.resnet50, pretrained=False)\n",
    "learn.load(\"ff_stage-1-256-rn50\")"
   ]
  },
  {
   "cell_type": "code",
   "execution_count": 0,
   "metadata": {
    "ExecuteTime": {
     "end_time": "2019-01-28T05:42:52.973456Z",
     "start_time": "2019-01-28T05:42:52.950952Z"
    },
    "colab": {},
    "colab_type": "code",
    "id": "omHtS8Cm_rWq"
   },
   "outputs": [],
   "source": [
    "m = learn.model.eval();"
   ]
  },
  {
   "cell_type": "code",
   "execution_count": 0,
   "metadata": {
    "ExecuteTime": {
     "end_time": "2019-01-28T05:42:55.691222Z",
     "start_time": "2019-01-28T05:42:55.215590Z"
    },
    "colab": {
     "base_uri": "https://localhost:8080/",
     "height": 211
    },
    "colab_type": "code",
    "executionInfo": {
     "elapsed": 2597,
     "status": "ok",
     "timestamp": 1577178595499,
     "user": {
      "displayName": "Srajan Gupta",
      "photoUrl": "https://lh3.googleusercontent.com/a-/AAuE7mBYbKqx6seqbDvLoUc2osk40cHBl9lGCpPmb4pA=s64",
      "userId": "03848760359771388424"
     },
     "user_tz": -330
    },
    "id": "KC2f0f-o_rWs",
    "outputId": "16ba6f46-79b2-4f9f-e5a5-38a1cab375a9"
   },
   "outputs": [
    {
     "data": {
      "text/plain": [
       "MultiCategory Arched_Eyebrows;Attractive;Black_Hair;Heavy_Makeup;High_Cheekbones;No_Beard;Pointy_Nose;Rosy_Cheeks;Wavy_Hair;Wearing_Lipstick;Young"
      ]
     },
     "execution_count": 97,
     "metadata": {
      "tags": []
     },
     "output_type": "execute_result"
    },
    {
     "data": {
      "image/png": "[encoded data removed]",
      "text/plain": [
       "<Figure size 216x216 with 1 Axes>"
      ]
     },
     "metadata": {
      "tags": []
     },
     "output_type": "display_data"
    }
   ],
   "source": [
    "idx=87\n",
    "x,y = data.valid_ds[idx]\n",
    "x.show()\n",
    "data.valid_ds.y[idx]"
   ]
  },
  {
   "cell_type": "code",
   "execution_count": 0,
   "metadata": {
    "colab": {},
    "colab_type": "code",
    "id": "lqv3tdrgrxH2"
   },
   "outputs": [],
   "source": [
    "xb, _ = data.one_item(x)\n",
    "xb_im = Image(data.denorm(xb)[0])\n",
    "xb = xb.cuda()"
   ]
  },
  {
   "cell_type": "code",
   "execution_count": 0,
   "metadata": {
    "ExecuteTime": {
     "end_time": "2019-01-28T05:42:59.609793Z",
     "start_time": "2019-01-28T05:42:59.587162Z"
    },
    "colab": {},
    "colab_type": "code",
    "id": "5dmzRosY_rWv"
   },
   "outputs": [],
   "source": [
    "from fastai.callbacks.hooks import *"
   ]
  },
  {
   "cell_type": "code",
   "execution_count": 0,
   "metadata": {
    "ExecuteTime": {
     "end_time": "2019-01-28T05:43:00.482080Z",
     "start_time": "2019-01-28T05:43:00.458499Z"
    },
    "colab": {},
    "colab_type": "code",
    "id": "JSkmcjTC_rWx"
   },
   "outputs": [],
   "source": [
    "def hooked_backward(cat=y):\n",
    "    with hook_output(m[0]) as hook_a: \n",
    "        with hook_output(m[0], grad=True) as hook_g:\n",
    "            preds = m(xb)\n",
    "            #preds[0,str(data.valid_ds.y[idx])].backward()\n",
    "    return hook_a,hook_g"
   ]
  },
  {
   "cell_type": "code",
   "execution_count": 0,
   "metadata": {
    "ExecuteTime": {
     "end_time": "2019-01-28T05:43:05.716845Z",
     "start_time": "2019-01-28T05:43:02.111631Z"
    },
    "colab": {},
    "colab_type": "code",
    "id": "-CnjKReQ_rWz"
   },
   "outputs": [],
   "source": [
    "hook_a,hook_g = hooked_backward()"
   ]
  },
  {
   "cell_type": "code",
   "execution_count": 0,
   "metadata": {
    "ExecuteTime": {
     "end_time": "2019-01-28T05:43:05.740896Z",
     "start_time": "2019-01-28T05:43:05.719706Z"
    },
    "colab": {
     "base_uri": "https://localhost:8080/",
     "height": 34
    },
    "colab_type": "code",
    "executionInfo": {
     "elapsed": 8529,
     "status": "ok",
     "timestamp": 1577178176786,
     "user": {
      "displayName": "Srajan Gupta",
      "photoUrl": "https://lh3.googleusercontent.com/a-/AAuE7mBYbKqx6seqbDvLoUc2osk40cHBl9lGCpPmb4pA=s64",
      "userId": "03848760359771388424"
     },
     "user_tz": -330
    },
    "id": "i5ehzkfL_rW0",
    "outputId": "d8859b55-f505-473a-91eb-c6878959e3a5"
   },
   "outputs": [
    {
     "data": {
      "text/plain": [
       "torch.Size([2048, 8, 8])"
      ]
     },
     "execution_count": 88,
     "metadata": {
      "tags": []
     },
     "output_type": "execute_result"
    }
   ],
   "source": [
    "acts  = hook_a.stored[0].cpu()\n",
    "acts.shape"
   ]
  },
  {
   "cell_type": "code",
   "execution_count": 0,
   "metadata": {
    "ExecuteTime": {
     "end_time": "2019-01-28T05:43:05.760735Z",
     "start_time": "2019-01-28T05:43:05.742910Z"
    },
    "colab": {
     "base_uri": "https://localhost:8080/",
     "height": 34
    },
    "colab_type": "code",
    "executionInfo": {
     "elapsed": 5254,
     "status": "ok",
     "timestamp": 1577178176788,
     "user": {
      "displayName": "Srajan Gupta",
      "photoUrl": "https://lh3.googleusercontent.com/a-/AAuE7mBYbKqx6seqbDvLoUc2osk40cHBl9lGCpPmb4pA=s64",
      "userId": "03848760359771388424"
     },
     "user_tz": -330
    },
    "id": "v9QHjPTh_rW2",
    "outputId": "76e46537-8e36-4601-e49b-b497c72c6fee"
   },
   "outputs": [
    {
     "data": {
      "text/plain": [
       "torch.Size([8, 8])"
      ]
     },
     "execution_count": 89,
     "metadata": {
      "tags": []
     },
     "output_type": "execute_result"
    }
   ],
   "source": [
    "avg_acts = acts.mean(0)\n",
    "avg_acts.shape"
   ]
  },
  {
   "cell_type": "code",
   "execution_count": 0,
   "metadata": {
    "ExecuteTime": {
     "end_time": "2019-01-28T05:43:05.780895Z",
     "start_time": "2019-01-28T05:43:05.763892Z"
    },
    "colab": {},
    "colab_type": "code",
    "id": "-oCKEzF3_rW3"
   },
   "outputs": [],
   "source": [
    "def show_heatmap(hm):\n",
    "    _,ax = plt.subplots()\n",
    "    xb_im.show(ax)\n",
    "    ax.imshow(hm, alpha=0.6, extent=(0,256,256,0),\n",
    "              interpolation='bilinear', cmap='magma');"
   ]
  },
  {
   "cell_type": "code",
   "execution_count": 0,
   "metadata": {
    "ExecuteTime": {
     "end_time": "2019-01-28T05:43:10.216037Z",
     "start_time": "2019-01-28T05:43:10.013050Z"
    },
    "colab": {
     "base_uri": "https://localhost:8080/",
     "height": 156
    },
    "colab_type": "code",
    "executionInfo": {
     "elapsed": 6701,
     "status": "ok",
     "timestamp": 1577178183017,
     "user": {
      "displayName": "Srajan Gupta",
      "photoUrl": "https://lh3.googleusercontent.com/a-/AAuE7mBYbKqx6seqbDvLoUc2osk40cHBl9lGCpPmb4pA=s64",
      "userId": "03848760359771388424"
     },
     "user_tz": -330
    },
    "id": "ocrW0_it_rW5",
    "outputId": "978b0bd6-eb15-4721-fc1e-16b4e8a76eed"
   },
   "outputs": [
    {
     "data": {
      "text/plain": [
       "tensor([[0.1034, 0.1023, 0.1387, 0.2085, 0.2783, 0.2995, 0.2313, 0.1974],\n",
       "        [0.0906, 0.1079, 0.2190, 0.3894, 0.4631, 0.4955, 0.3788, 0.2365],\n",
       "        [0.1095, 0.1464, 0.3894, 0.6495, 0.7418, 0.7155, 0.5464, 0.2970],\n",
       "        [0.1023, 0.2010, 0.6302, 0.7888, 0.8379, 0.7959, 0.6236, 0.3014],\n",
       "        [0.0982, 0.1906, 0.5904, 0.8319, 0.8355, 0.8397, 0.6737, 0.2643],\n",
       "        [0.1011, 0.1356, 0.5125, 0.8559, 0.8866, 0.7845, 0.5472, 0.2487],\n",
       "        [0.1011, 0.0976, 0.3179, 0.6405, 0.6973, 0.5483, 0.4107, 0.2002],\n",
       "        [0.1688, 0.1903, 0.3171, 0.4994, 0.5306, 0.4285, 0.3684, 0.2605]])"
      ]
     },
     "execution_count": 91,
     "metadata": {
      "tags": []
     },
     "output_type": "execute_result"
    }
   ],
   "source": [
    "avg_acts"
   ]
  },
  {
   "cell_type": "code",
   "execution_count": 0,
   "metadata": {
    "ExecuteTime": {
     "end_time": "2019-01-28T05:43:06.226743Z",
     "start_time": "2019-01-28T05:43:06.042054Z"
    },
    "colab": {
     "base_uri": "https://localhost:8080/",
     "height": 248
    },
    "colab_type": "code",
    "executionInfo": {
     "elapsed": 10557,
     "status": "ok",
     "timestamp": 1577178192319,
     "user": {
      "displayName": "Srajan Gupta",
      "photoUrl": "https://lh3.googleusercontent.com/a-/AAuE7mBYbKqx6seqbDvLoUc2osk40cHBl9lGCpPmb4pA=s64",
      "userId": "03848760359771388424"
     },
     "user_tz": -330
    },
    "id": "k6rEZ8P-_rW7",
    "outputId": "18ab96c2-b6bf-4851-be2b-2d0121f55bb5"
   },
   "outputs": [
    {
     "data": {
      "image/png": "[encoded data removed]",
      "text/plain": [
       "<Figure size 432x288 with 1 Axes>"
      ]
     },
     "metadata": {
      "tags": []
     },
     "output_type": "display_data"
    }
   ],
   "source": [
    "show_heatmap(avg_acts)"
   ]
  },
  {
   "cell_type": "code",
   "execution_count": 0,
   "metadata": {
    "ExecuteTime": {
     "end_time": "2019-01-28T05:45:11.889660Z",
     "start_time": "2019-01-28T05:45:11.635973Z"
    },
    "colab": {
     "base_uri": "https://localhost:8080/",
     "height": 248
    },
    "colab_type": "code",
    "executionInfo": {
     "elapsed": 5819,
     "status": "ok",
     "timestamp": 1577178200065,
     "user": {
      "displayName": "Srajan Gupta",
      "photoUrl": "https://lh3.googleusercontent.com/a-/AAuE7mBYbKqx6seqbDvLoUc2osk40cHBl9lGCpPmb4pA=s64",
      "userId": "03848760359771388424"
     },
     "user_tz": -330
    },
    "id": "2FXPE0rW_rW9",
    "outputId": "8d413a17-1d32-48a7-c2c9-e0b988281d98"
   },
   "outputs": [
    {
     "data": {
      "image/png": "[encoded data removed]",
      "text/plain": [
       "<Figure size 432x288 with 1 Axes>"
      ]
     },
     "metadata": {
      "tags": []
     },
     "output_type": "display_data"
    }
   ],
   "source": [
    "idx=3000\n",
    "x,y = data.valid_ds[idx]\n",
    "xb, _ = data.one_item(x)\n",
    "xb_im = Image(data.denorm(xb)[0])\n",
    "xb = xb.cuda()\n",
    "\n",
    "hook_a,hook_g = hooked_backward()\n",
    "acts  = hook_a.stored[0].cpu()\n",
    "avg_acts = acts.mean(0)\n",
    "show_heatmap(avg_acts)"
   ]
  },
  {
   "cell_type": "code",
   "execution_count": 0,
   "metadata": {
    "ExecuteTime": {
     "end_time": "2019-01-28T05:45:20.444197Z",
     "start_time": "2019-01-28T05:45:20.419959Z"
    },
    "colab": {
     "base_uri": "https://localhost:8080/",
     "height": 156
    },
    "colab_type": "code",
    "executionInfo": {
     "elapsed": 6719,
     "status": "ok",
     "timestamp": 1577178206062,
     "user": {
      "displayName": "Srajan Gupta",
      "photoUrl": "https://lh3.googleusercontent.com/a-/AAuE7mBYbKqx6seqbDvLoUc2osk40cHBl9lGCpPmb4pA=s64",
      "userId": "03848760359771388424"
     },
     "user_tz": -330
    },
    "id": "Z_LRgr3u_rXA",
    "outputId": "c9e1492e-2e08-476e-cdd4-ffc6e3f91705"
   },
   "outputs": [
    {
     "data": {
      "text/plain": [
       "tensor([[0.1253, 0.1553, 0.2261, 0.2258, 0.2435, 0.2421, 0.1829, 0.1647],\n",
       "        [0.1168, 0.2056, 0.3241, 0.4218, 0.4906, 0.4775, 0.3043, 0.1560],\n",
       "        [0.1572, 0.2538, 0.5485, 0.7487, 0.8001, 0.7528, 0.4910, 0.1958],\n",
       "        [0.1513, 0.3196, 0.6766, 0.7723, 0.8394, 0.7972, 0.5853, 0.2456],\n",
       "        [0.1842, 0.3527, 0.7430, 0.8676, 0.8428, 0.8570, 0.6396, 0.2601],\n",
       "        [0.1671, 0.3950, 0.6879, 0.8538, 0.9302, 0.8319, 0.6047, 0.2673],\n",
       "        [0.1303, 0.2625, 0.4761, 0.6584, 0.7470, 0.6841, 0.4792, 0.1894],\n",
       "        [0.1909, 0.2470, 0.4402, 0.6323, 0.6704, 0.6499, 0.4185, 0.2435]])"
      ]
     },
     "execution_count": 94,
     "metadata": {
      "tags": []
     },
     "output_type": "execute_result"
    }
   ],
   "source": [
    "avg_acts"
   ]
  },
  {
   "cell_type": "code",
   "execution_count": 0,
   "metadata": {
    "colab": {},
    "colab_type": "code",
    "id": "O2-6qkhRq91s"
   },
   "outputs": [],
   "source": [
    "# USAGE\n",
    "\"\"\"\n",
    "python detect_features.py \\\n",
    "--input_path \"../data/celeba/faces/\" \\\n",
    "--output_path \"./\" \\\n",
    "--save_video False\n",
    "\"\"\"\n",
    "\n",
    "import click\n",
    "import numpy as np\n",
    "import cv2\n",
    "import imutils\n",
    "from pathlib import Path\n",
    "from fastai.vision.data import ImageList\n",
    "from fastai.vision.learner import create_cnn\n",
    "from fastai.vision import models\n",
    "from fastai.vision.image import pil2tensor, Image\n",
    "\n",
    "\n",
    "@click.command()\n",
    "@click.option(\n",
    "    \"--input_path\",\n",
    "    \"-ip\",\n",
    "    default=\"./\",\n",
    "    required=True,\n",
    "    help=\"Path to model and labels file\",\n",
    ")\n",
    "@click.option(\n",
    "    \"--output_path\", \"-op\", default=\"./\", required=True, help=\"Path to the output video\"\n",
    ")\n",
    "@click.option(\"--save_video\", \"-s\", default=True, type=bool, help=\"Want to save video?\")\n",
    "def detect_facial_attributes(input_path, output_path, save_video):\n",
    "    path = Path(input_path)\n",
    "\n",
    "    # Creating a databunch\n",
    "    imagenet_stats = ([0.485, 0.456, 0.406], [0.229, 0.224, 0.225])\n",
    "    data = (\n",
    "        ImageList.from_csv(path, csv_name=\"labels.csv\")\n",
    "            .no_split()\n",
    "            .label_from_df(label_delim=\" \")\n",
    "            .transform(None, size=128)\n",
    "            .databunch(no_check=True)\n",
    "            .normalize(imagenet_stats)\n",
    "    )\n",
    "\n",
    "    # Loading our model\n",
    "    learn = create_cnn(data, models.resnet50, pretrained=False)\n",
    "    learn.load(\"ff_stage-2-rn50\")\n",
    "\n",
    "    # Loading HAAR cascade\n",
    "    face_cascade = cv2.CascadeClassifier(\"haarcascade_frontalface_default.xml\")\n",
    "\n",
    "    cap = cv2.VideoCapture(0)\n",
    "    if save_video:\n",
    "        out = cv2.VideoWriter(output_path + \"output.avi\", -1, 20.0, (640, 480))\n",
    "\n",
    "    while True:\n",
    "        # Capture frame-by-frame\n",
    "        _, frame = cap.read()\n",
    "\n",
    "        # Our operations on the frame come here\n",
    "        gray = cv2.cvtColor(frame, cv2.COLOR_BGR2GRAY)\n",
    "\n",
    "        # Find faces using Haar cascade\n",
    "        face_coord = face_cascade.detectMultiScale(gray, 1.1, 5, minSize=(30, 30))\n",
    "\n",
    "        ## Looping through each face\n",
    "        for coords in face_coord:\n",
    "\n",
    "            ## Finding co-ordinates of face\n",
    "            X, Y, w, h = coords\n",
    "\n",
    "            ## Finding frame size\n",
    "            H, W, _ = frame.shape\n",
    "\n",
    "            ## Computing larger face co-ordinates\n",
    "            X_1, X_2 = (max(0, X - int(w * 0.35)), min(X + int(1.35 * w), W))\n",
    "            Y_1, Y_2 = (max(0, Y - int(0.35 * h)), min(Y + int(1.35 * h), H))\n",
    "\n",
    "            ## Cropping face and changing BGR To RGB\n",
    "            img_cp = frame[Y_1:Y_2, X_1:X_2].copy()\n",
    "            img_cp1 = cv2.cvtColor(img_cp, cv2.COLOR_BGR2RGB)\n",
    "\n",
    "            ## Prediction of facial featues\n",
    "            prediction = str(\n",
    "                learn.predict(Image(pil2tensor(img_cp1, np.float32).div_(255)))[0]\n",
    "            ).split(\";\")\n",
    "            label = (\n",
    "                \" \".join(prediction)\n",
    "                if \"Male\" in prediction\n",
    "                else \"Female \" + \" \".join(prediction)\n",
    "            )\n",
    "            label = (\n",
    "                \" \".join(prediction)\n",
    "                if \"No_Beard\" in prediction\n",
    "                else \"Beard \" + \" \".join(prediction)\n",
    "            )\n",
    "\n",
    "            ## Drawing facial boundaries\n",
    "            cv2.rectangle(\n",
    "                img=frame,\n",
    "                pt1=(X, Y),\n",
    "                pt2=(X + w, Y + h),\n",
    "                color=(128, 128, 0),\n",
    "                thickness=2,\n",
    "            )\n",
    "\n",
    "            ## Drawing facial attributes identified\n",
    "            label_list = label.split(\" \")\n",
    "            for idx in range(1, len(label_list) + 1):\n",
    "                cv2.putText(\n",
    "                    frame,\n",
    "                    label_list[idx - 1],\n",
    "                    (X, Y - 14 * idx),\n",
    "                    cv2.FONT_HERSHEY_SIMPLEX,\n",
    "                    0.45,\n",
    "                    (0, 128, 0),\n",
    "                    2,\n",
    "                )\n",
    "\n",
    "        # Display the resulting frame\n",
    "        cv2.imshow(\"frame\", frame)\n",
    "\n",
    "        ## Save the resulting frame\n",
    "        if save_video:\n",
    "            out.write(frame)\n",
    "\n",
    "        ## Escape keys\n",
    "        if cv2.waitKey(1) & 0xFF == ord(\"q\"):\n",
    "            break\n",
    "\n",
    "    # When everything done, release the capture\n",
    "    cap.release()\n",
    "    if save_video:\n",
    "        out.release()\n",
    "    cv2.destroyAllWindows()\n",
    "\n",
    "\n",
    "if __name__ == \"__main__\":\n",
    "    detect_facial_attributes()"
   ]
  }
 ],
 "metadata": {
  "accelerator": "GPU",
  "colab": {
   "collapsed_sections": [],
   "name": "Multi Class Classification (Using FastAI)",
   "provenance": [
    {
     "file_id": "1pWKba1AeDwSFahbLPbMNsWrTRZ-vFRbJ",
     "timestamp": 1576313377356
    },
    {
     "file_id": "1f9626ZAWWDX4NQQYeOOhRul2qn9c9-hm",
     "timestamp": 1576310863148
    },
    {
     "file_id": "1xZnFZ76eBgJbXTFsPPON_hFffJddbLS3",
     "timestamp": 1575381310565
    },
    {
     "file_id": "1zPmqbEScVILGszeBHP9rg1gX-wQAKI0w",
     "timestamp": 1575380973245
    },
    {
     "file_id": "1zsOVFNslfvVQLio1LnIRROLn3MsRnh9o",
     "timestamp": 1575379634031
    }
   ],
   "toc_visible": true
  },
  "kernelspec": {
   "display_name": "Python 3",
   "language": "python",
   "name": "python3"
  },
  "language_info": {
   "codemirror_mode": {
    "name": "ipython",
    "version": 3
   },
   "file_extension": ".py",
   "mimetype": "text/x-python",
   "name": "python",
   "nbconvert_exporter": "python",
   "pygments_lexer": "ipython3",
   "version": "3.7.4"
  },
  "widgets": {
   "application/vnd.jupyter.widget-state+json": {
    "28a828076a9c4b67974c98361211b715": {
     "model_module": "@jupyter-widgets/controls",
     "model_name": "DescriptionStyleModel",
     "state": {
      "_model_module": "@jupyter-widgets/controls",
      "_model_module_version": "1.5.0",
      "_model_name": "DescriptionStyleModel",
      "_view_count": null,
      "_view_module": "@jupyter-widgets/base",
      "_view_module_version": "1.2.0",
      "_view_name": "StyleView",
      "description_width": ""
     }
    },
    "37ab7b460ae34624979c92ec1a4eae3e": {
     "model_module": "@jupyter-widgets/controls",
     "model_name": "HBoxModel",
     "state": {
      "_dom_classes": [],
      "_model_module": "@jupyter-widgets/controls",
      "_model_module_version": "1.5.0",
      "_model_name": "HBoxModel",
      "_view_count": null,
      "_view_module": "@jupyter-widgets/controls",
      "_view_module_version": "1.5.0",
      "_view_name": "HBoxView",
      "box_style": "",
      "children": [
       "IPY_MODEL_7dfd7a8a46e34362bf88ef3a9e5dd995",
       "IPY_MODEL_8bcd8723e0284931b7fa1d7b26d29876"
      ],
      "layout": "IPY_MODEL_54dbf41c55724fb3b96f9a2591b641ef"
     }
    },
    "3ba58709158745bc8b5b66e0b7ee8578": {
     "model_module": "@jupyter-widgets/base",
     "model_name": "LayoutModel",
     "state": {
      "_model_module": "@jupyter-widgets/base",
      "_model_module_version": "1.2.0",
      "_model_name": "LayoutModel",
      "_view_count": null,
      "_view_module": "@jupyter-widgets/base",
      "_view_module_version": "1.2.0",
      "_view_name": "LayoutView",
      "align_content": null,
      "align_items": null,
      "align_self": null,
      "border": null,
      "bottom": null,
      "display": null,
      "flex": null,
      "flex_flow": null,
      "grid_area": null,
      "grid_auto_columns": null,
      "grid_auto_flow": null,
      "grid_auto_rows": null,
      "grid_column": null,
      "grid_gap": null,
      "grid_row": null,
      "grid_template_areas": null,
      "grid_template_columns": null,
      "grid_template_rows": null,
      "height": null,
      "justify_content": null,
      "justify_items": null,
      "left": null,
      "margin": null,
      "max_height": null,
      "max_width": null,
      "min_height": null,
      "min_width": null,
      "object_fit": null,
      "object_position": null,
      "order": null,
      "overflow": null,
      "overflow_x": null,
      "overflow_y": null,
      "padding": null,
      "right": null,
      "top": null,
      "visibility": null,
      "width": null
     }
    },
    "54dbf41c55724fb3b96f9a2591b641ef": {
     "model_module": "@jupyter-widgets/base",
     "model_name": "LayoutModel",
     "state": {
      "_model_module": "@jupyter-widgets/base",
      "_model_module_version": "1.2.0",
      "_model_name": "LayoutModel",
      "_view_count": null,
      "_view_module": "@jupyter-widgets/base",
      "_view_module_version": "1.2.0",
      "_view_name": "LayoutView",
      "align_content": null,
      "align_items": null,
      "align_self": null,
      "border": null,
      "bottom": null,
      "display": null,
      "flex": null,
      "flex_flow": null,
      "grid_area": null,
      "grid_auto_columns": null,
      "grid_auto_flow": null,
      "grid_auto_rows": null,
      "grid_column": null,
      "grid_gap": null,
      "grid_row": null,
      "grid_template_areas": null,
      "grid_template_columns": null,
      "grid_template_rows": null,
      "height": null,
      "justify_content": null,
      "justify_items": null,
      "left": null,
      "margin": null,
      "max_height": null,
      "max_width": null,
      "min_height": null,
      "min_width": null,
      "object_fit": null,
      "object_position": null,
      "order": null,
      "overflow": null,
      "overflow_x": null,
      "overflow_y": null,
      "padding": null,
      "right": null,
      "top": null,
      "visibility": null,
      "width": null
     }
    },
    "55ffe93524034853b1c076fcf445781f": {
     "model_module": "@jupyter-widgets/base",
     "model_name": "LayoutModel",
     "state": {
      "_model_module": "@jupyter-widgets/base",
      "_model_module_version": "1.2.0",
      "_model_name": "LayoutModel",
      "_view_count": null,
      "_view_module": "@jupyter-widgets/base",
      "_view_module_version": "1.2.0",
      "_view_name": "LayoutView",
      "align_content": null,
      "align_items": null,
      "align_self": null,
      "border": null,
      "bottom": null,
      "display": null,
      "flex": null,
      "flex_flow": null,
      "grid_area": null,
      "grid_auto_columns": null,
      "grid_auto_flow": null,
      "grid_auto_rows": null,
      "grid_column": null,
      "grid_gap": null,
      "grid_row": null,
      "grid_template_areas": null,
      "grid_template_columns": null,
      "grid_template_rows": null,
      "height": null,
      "justify_content": null,
      "justify_items": null,
      "left": null,
      "margin": null,
      "max_height": null,
      "max_width": null,
      "min_height": null,
      "min_width": null,
      "object_fit": null,
      "object_position": null,
      "order": null,
      "overflow": null,
      "overflow_x": null,
      "overflow_y": null,
      "padding": null,
      "right": null,
      "top": null,
      "visibility": null,
      "width": null
     }
    },
    "7dfd7a8a46e34362bf88ef3a9e5dd995": {
     "model_module": "@jupyter-widgets/controls",
     "model_name": "IntProgressModel",
     "state": {
      "_dom_classes": [],
      "_model_module": "@jupyter-widgets/controls",
      "_model_module_version": "1.5.0",
      "_model_name": "IntProgressModel",
      "_view_count": null,
      "_view_module": "@jupyter-widgets/controls",
      "_view_module_version": "1.5.0",
      "_view_name": "ProgressView",
      "bar_style": "success",
      "description": "",
      "description_tooltip": null,
      "layout": "IPY_MODEL_3ba58709158745bc8b5b66e0b7ee8578",
      "max": 202599,
      "min": 0,
      "orientation": "horizontal",
      "style": "IPY_MODEL_f8080dbb5b1f4ee1be69f810c1f627be",
      "value": 202599
     }
    },
    "8bcd8723e0284931b7fa1d7b26d29876": {
     "model_module": "@jupyter-widgets/controls",
     "model_name": "HTMLModel",
     "state": {
      "_dom_classes": [],
      "_model_module": "@jupyter-widgets/controls",
      "_model_module_version": "1.5.0",
      "_model_name": "HTMLModel",
      "_view_count": null,
      "_view_module": "@jupyter-widgets/controls",
      "_view_module_version": "1.5.0",
      "_view_name": "HTMLView",
      "description": "",
      "description_tooltip": null,
      "layout": "IPY_MODEL_55ffe93524034853b1c076fcf445781f",
      "placeholder": "​",
      "style": "IPY_MODEL_28a828076a9c4b67974c98361211b715",
      "value": "100% 202599/202599 [00:07&lt;00:00, 26392.87it/s]"
     }
    },
    "f8080dbb5b1f4ee1be69f810c1f627be": {
     "model_module": "@jupyter-widgets/controls",
     "model_name": "ProgressStyleModel",
     "state": {
      "_model_module": "@jupyter-widgets/controls",
      "_model_module_version": "1.5.0",
      "_model_name": "ProgressStyleModel",
      "_view_count": null,
      "_view_module": "@jupyter-widgets/base",
      "_view_module_version": "1.2.0",
      "_view_name": "StyleView",
      "bar_color": null,
      "description_width": ""
     }
    }
   }
  }
 },
 "nbformat": 4,
 "nbformat_minor": 1
}
